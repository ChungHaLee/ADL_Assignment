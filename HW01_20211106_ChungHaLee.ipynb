{
 "cells": [
  {
   "cell_type": "markdown",
   "metadata": {},
   "source": [
    "# Homework 1: IMDB Dataset\n",
    "**IMDB Dataset includes sentimental text reviews of the movie, and it is labeled whether the review shows positive(1) or negative(0) opinions.**\n",
    "- IMDB 데이터셋은 영화에 대한 유저의 주관, 감성이 포함된 비정형 텍스트 데이터셋이다.\n",
    "- 이진으로 레이블링된 데이터이기 때문에 지도학습이 가능하다."
   ]
  },
  {
   "cell_type": "markdown",
   "metadata": {},
   "source": [
    "### 1. Load the Dataset"
   ]
  },
  {
   "cell_type": "code",
   "execution_count": 1,
   "metadata": {},
   "outputs": [],
   "source": [
    "import matplotlib.pyplot as plt\n",
    "import numpy as np\n",
    "from keras.datasets import imdb\n",
    "\n",
    "top_words = 10000\n",
    "(train_data, train_labels), (test_data, test_labels) = imdb.load_data(num_words=top_words)\n",
    "\n",
    "# num_words=top_words 는 리뷰에 등장하는 빈도가 1순위-10,000순위인 단어만 train 과 test 에서 사용하도록 정해준다.\n",
    "# 이렇게 하면 적절한 크기의 벡터 데이터를 얻을 수 있다."
   ]
  },
  {
   "cell_type": "code",
   "execution_count": 2,
   "metadata": {},
   "outputs": [
    {
     "name": "stdout",
     "output_type": "stream",
     "text": [
      "number of train data : 25000\n",
      "number of test data : 25000\n"
     ]
    }
   ],
   "source": [
    "print('number of train data : {}'.format(len(train_data)))\n",
    "print('number of test data : {}'.format(len(test_data)))\n",
    "\n",
    "# IMDB 데이터셋의 train data 와 test data 의 비율은 50:50 으로 정해져있다. \n",
    "# 그 이유는 데이터셋을 50:50으로 분할하여 88.89%의 정확도를 얻었다고 스탠포드 대학교의 논문에 소개되어있기 때문이다."
   ]
  },
  {
   "cell_type": "markdown",
   "metadata": {},
   "source": [
    "### 2. EDA (Exploratory Data Analysis)\n",
    "탐색적 데이터 분석(EDA)은 데이터셋에 대한 전체적인 정보를 제공한다는 점에서 중요하다."
   ]
  },
  {
   "cell_type": "code",
   "execution_count": 3,
   "metadata": {},
   "outputs": [
    {
     "name": "stdout",
     "output_type": "stream",
     "text": [
      "Max length of the review : 2494\n",
      "Average length of the review : 238.71364\n"
     ]
    }
   ],
   "source": [
    "len_result = [len(s) for s in train_data]\n",
    "\n",
    "print('Max length of the review : {}'.format(np.max(len_result)))\n",
    "print('Average length of the review : {}'.format(np.mean(len_result)))"
   ]
  },
  {
   "cell_type": "code",
   "execution_count": 4,
   "metadata": {},
   "outputs": [
    {
     "data": {
      "image/png": "[encoded data removed]",
      "text/plain": [
       "<Figure size 432x288 with 1 Axes>"
      ]
     },
     "metadata": {
      "needs_background": "light"
     },
     "output_type": "display_data"
    }
   ],
   "source": [
    "plt.title('Histogram of the Movie Reviews Length')\n",
    "plt.hist(len_result, bins=50, color='#54CAEA')\n",
    "plt.show()\n",
    "\n",
    "# 리뷰마다 길이가 다르며, 길면 2000자가 넘는 경우도 있다. 그러나 평균적으로는 200자에 가까우며, 대부분의 리뷰는 500자 이내임을 알 수 있다."
   ]
  },
  {
   "cell_type": "code",
   "execution_count": 5,
   "metadata": {},
   "outputs": [
    {
     "name": "stdout",
     "output_type": "stream",
     "text": [
      "Number of Negative/Positive Reviews:\n",
      "[[    0     1]\n",
      " [12500 12500]]\n"
     ]
    }
   ],
   "source": [
    "negative, positive = np.unique(train_labels, return_counts=True)\n",
    "\n",
    "# 레이블링이 되어있으면 긍정 리뷰 데이터(1), 안 되어있으면 부정 리뷰 데이터(0)이다.\n",
    "\n",
    "print(\"Number of Negative/Positive Reviews:\")\n",
    "print(np.asarray((negative, positive)))\n",
    "\n",
    "# train data 의 긍정 리뷰 데이터와 부정 리뷰 데이터의 개수는 각 12,500개로 동일하다."
   ]
  },
  {
   "cell_type": "markdown",
   "metadata": {},
   "source": [
    "### 3. One-Hot Encoding\n",
    "원 핫 인코딩(one-hot encoding)은 텍스트를 숫자형으로 바꿔주는 전처리 작업이다. 이 과정을 거쳐야 데이터로써 모델의 학습이 가능하다."
   ]
  },
  {
   "cell_type": "code",
   "execution_count": 6,
   "metadata": {},
   "outputs": [],
   "source": [
    "def vectorize_sequences(sequences, dimension=10000):\n",
    "    results = np.zeros((len(sequences), dimension))\n",
    "    for i, sequence in enumerate(sequences):\n",
    "        results[i, sequence] = 1.\n",
    "    return results"
   ]
  },
  {
   "cell_type": "code",
   "execution_count": 7,
   "metadata": {},
   "outputs": [
    {
     "name": "stdout",
     "output_type": "stream",
     "text": [
      "[[0. 1. 1. ... 0. 0. 0.]\n",
      " [0. 1. 1. ... 0. 0. 0.]\n",
      " [0. 1. 1. ... 0. 0. 0.]\n",
      " ...\n",
      " [0. 1. 1. ... 0. 0. 0.]\n",
      " [0. 1. 1. ... 0. 0. 0.]\n",
      " [0. 1. 1. ... 0. 0. 0.]]\n",
      "[[0. 1. 1. ... 0. 0. 0.]\n",
      " [0. 1. 1. ... 0. 0. 0.]\n",
      " [0. 1. 1. ... 0. 0. 0.]\n",
      " ...\n",
      " [0. 1. 1. ... 0. 0. 0.]\n",
      " [0. 1. 1. ... 0. 0. 0.]\n",
      " [0. 1. 1. ... 0. 0. 0.]]\n"
     ]
    }
   ],
   "source": [
    "x_train = vectorize_sequences(train_data)\n",
    "x_test = vectorize_sequences(test_data)\n",
    "print(x_train)\n",
    "print(x_test)"
   ]
  },
  {
   "cell_type": "code",
   "execution_count": 8,
   "metadata": {},
   "outputs": [
    {
     "name": "stdout",
     "output_type": "stream",
     "text": [
      "[1. 0. 0. ... 0. 1. 0.]\n",
      "[0. 1. 1. ... 0. 0. 0.]\n"
     ]
    }
   ],
   "source": [
    "y_train = np.asarray(train_labels).astype('float32')\n",
    "y_test = np.asarray(test_labels).astype('float32')\n",
    "print(y_train)\n",
    "print(y_test)"
   ]
  },
  {
   "cell_type": "markdown",
   "metadata": {},
   "source": [
    "## Experiments\n",
    "### (1) Basic Neural Network Model\n",
    "- activation function: relu, sigmoid\n",
    "- optimizer: RMSprop\n",
    "- loss function: binary_crossentropy\n",
    "- batch size: 512\n",
    "- epoch: 20"
   ]
  },
  {
   "cell_type": "code",
   "execution_count": 9,
   "metadata": {},
   "outputs": [],
   "source": [
    "from keras import models\n",
    "from keras import layers\n",
    "\n",
    "model = models.Sequential()\n",
    "model.add(layers.Dense(16,activation='relu', input_shape=(10000,)))\n",
    "model.add(layers.Dense(16, activation='relu'))\n",
    "model.add(layers.Dense(1, activation='sigmoid'))"
   ]
  },
  {
   "cell_type": "code",
   "execution_count": 10,
   "metadata": {},
   "outputs": [],
   "source": [
    "model.compile(optimizer='rmsprop',\n",
    "             loss='binary_crossentropy',\n",
    "             metrics=['accuracy'])"
   ]
  },
  {
   "cell_type": "code",
   "execution_count": 11,
   "metadata": {},
   "outputs": [],
   "source": [
    "x_val = x_train[:10000]\n",
    "partial_x_train = x_train[10000:]\n",
    "y_val = y_train[:10000]\n",
    "partial_y_train = y_train[10000:]"
   ]
  },
  {
   "cell_type": "code",
   "execution_count": 12,
   "metadata": {},
   "outputs": [
    {
     "name": "stdout",
     "output_type": "stream",
     "text": [
      "Epoch 1/20\n",
      "30/30 [==============================] - 4s 97ms/step - loss: 0.6015 - accuracy: 0.7110 - val_loss: 0.4224 - val_accuracy: 0.8500\n",
      "Epoch 2/20\n",
      "30/30 [==============================] - 1s 21ms/step - loss: 0.3369 - accuracy: 0.8966 - val_loss: 0.3307 - val_accuracy: 0.8690\n",
      "Epoch 3/20\n",
      "30/30 [==============================] - 1s 21ms/step - loss: 0.2397 - accuracy: 0.9261 - val_loss: 0.2812 - val_accuracy: 0.8911\n",
      "Epoch 4/20\n",
      "30/30 [==============================] - 1s 21ms/step - loss: 0.1787 - accuracy: 0.9454 - val_loss: 0.2748 - val_accuracy: 0.8919\n",
      "Epoch 5/20\n",
      "30/30 [==============================] - 1s 20ms/step - loss: 0.1418 - accuracy: 0.9574 - val_loss: 0.3043 - val_accuracy: 0.8789\n",
      "Epoch 6/20\n",
      "30/30 [==============================] - 1s 21ms/step - loss: 0.1149 - accuracy: 0.9670 - val_loss: 0.2928 - val_accuracy: 0.8859\n",
      "Epoch 7/20\n",
      "30/30 [==============================] - 1s 20ms/step - loss: 0.0942 - accuracy: 0.9745 - val_loss: 0.3485 - val_accuracy: 0.8756\n",
      "Epoch 8/20\n",
      "30/30 [==============================] - 1s 21ms/step - loss: 0.0766 - accuracy: 0.9800 - val_loss: 0.3490 - val_accuracy: 0.8791\n",
      "Epoch 9/20\n",
      "30/30 [==============================] - 1s 21ms/step - loss: 0.0626 - accuracy: 0.9850 - val_loss: 0.4150 - val_accuracy: 0.8637\n",
      "Epoch 10/20\n",
      "30/30 [==============================] - 1s 21ms/step - loss: 0.0525 - accuracy: 0.9874 - val_loss: 0.3847 - val_accuracy: 0.8781\n",
      "Epoch 11/20\n",
      "30/30 [==============================] - 1s 21ms/step - loss: 0.0376 - accuracy: 0.9923 - val_loss: 0.4471 - val_accuracy: 0.8710\n",
      "Epoch 12/20\n",
      "30/30 [==============================] - 1s 22ms/step - loss: 0.0302 - accuracy: 0.9949 - val_loss: 0.4430 - val_accuracy: 0.8742\n",
      "Epoch 13/20\n",
      "30/30 [==============================] - 1s 21ms/step - loss: 0.0234 - accuracy: 0.9960 - val_loss: 0.4754 - val_accuracy: 0.8730\n",
      "Epoch 14/20\n",
      "30/30 [==============================] - 1s 19ms/step - loss: 0.0167 - accuracy: 0.9979 - val_loss: 0.5130 - val_accuracy: 0.8721\n",
      "Epoch 15/20\n",
      "30/30 [==============================] - 1s 20ms/step - loss: 0.0144 - accuracy: 0.9982 - val_loss: 0.5474 - val_accuracy: 0.8714\n",
      "Epoch 16/20\n",
      "30/30 [==============================] - 1s 20ms/step - loss: 0.0100 - accuracy: 0.9990 - val_loss: 0.5952 - val_accuracy: 0.8646\n",
      "Epoch 17/20\n",
      "30/30 [==============================] - 1s 27ms/step - loss: 0.0070 - accuracy: 0.9997 - val_loss: 0.6483 - val_accuracy: 0.8676\n",
      "Epoch 18/20\n",
      "30/30 [==============================] - 1s 24ms/step - loss: 0.0068 - accuracy: 0.9994 - val_loss: 0.6563 - val_accuracy: 0.8670\n",
      "Epoch 19/20\n",
      "30/30 [==============================] - 1s 26ms/step - loss: 0.0037 - accuracy: 0.9998 - val_loss: 0.6876 - val_accuracy: 0.8668\n",
      "Epoch 20/20\n",
      "30/30 [==============================] - 1s 23ms/step - loss: 0.0045 - accuracy: 0.9991 - val_loss: 0.7307 - val_accuracy: 0.8664\n"
     ]
    }
   ],
   "source": [
    "history = model.fit(partial_x_train,\n",
    "                    partial_y_train,\n",
    "                    epochs = 20,\n",
    "                    batch_size = 512,\n",
    "                    validation_data=(x_val, y_val))"
   ]
  },
  {
   "cell_type": "code",
   "execution_count": 13,
   "metadata": {},
   "outputs": [
    {
     "data": {
      "image/png": "[encoded data removed]",
      "text/plain": [
       "<Figure size 432x288 with 1 Axes>"
      ]
     },
     "metadata": {
      "needs_background": "light"
     },
     "output_type": "display_data"
    }
   ],
   "source": [
    "# loss 의 변화 시각화\n",
    "\n",
    "history_dict = history.history\n",
    "loss = history_dict['loss']\n",
    "val_loss = history_dict['val_loss']\n",
    "\n",
    "epochs = range(1,len(loss)+1)\n",
    "\n",
    "plt.plot(epochs, loss, 'bo', label='Training loss', color='limegreen')\n",
    "plt.plot(epochs, val_loss, 'b', label='Validation loss', color = 'violet')\n",
    "plt.title('Training and validation loss')\n",
    "plt.xlabel('Epochs')\n",
    "plt.ylabel('Loss')\n",
    "plt.legend()\n",
    "plt.show()"
   ]
  },
  {
   "cell_type": "markdown",
   "metadata": {},
   "source": [
    "**결과: Basic model 의 경우, epoch(학습 수)가 늘어날수록 train loss 가 줄어드는 모습이나 validation loss 는 증가하는 모습이다. 따라서 학습이 안정적으로 이루어졌다고 볼 수 없으며, 과도하게 학습 데이터에 맞춰진 모델의 오버피팅(overfitting) 문제가 일어나고 있다.**"
   ]
  },
  {
   "cell_type": "markdown",
   "metadata": {},
   "source": [
    "### (2) Basic model + batchsize = 128\n",
    "batch size 는 모델의 성능에 큰 영향을 미친다. 큰 batch size 는 학습 초기에 불안정한 훈련을 유발하기도 한다.\n",
    "오버피팅 문제를 해결하기 위해 batch size 를 512 에서 128 으로 줄여보았다.\n",
    "- activation function: relu, sigmoid\n",
    "- optimizer: RMSprop\n",
    "- loss function: binary_crossentropy\n",
    "- **batch size: 128**\n",
    "- epoch: 20"
   ]
  },
  {
   "cell_type": "code",
   "execution_count": 14,
   "metadata": {},
   "outputs": [],
   "source": [
    "model = models.Sequential()\n",
    "model.add(layers.Dense(16,activation='relu', input_shape=(10000,)))\n",
    "model.add(layers.Dense(16, activation='relu'))\n",
    "model.add(layers.Dense(1, activation='sigmoid'))"
   ]
  },
  {
   "cell_type": "code",
   "execution_count": 15,
   "metadata": {},
   "outputs": [],
   "source": [
    "model.compile(optimizer='rmsprop',\n",
    "             loss='binary_crossentropy',\n",
    "             metrics=['accuracy'])"
   ]
  },
  {
   "cell_type": "code",
   "execution_count": 16,
   "metadata": {},
   "outputs": [],
   "source": [
    "x_val = x_train[:10000]\n",
    "partial_x_train = x_train[10000:]\n",
    "y_val = y_train[:10000]\n",
    "partial_y_train = y_train[10000:]"
   ]
  },
  {
   "cell_type": "code",
   "execution_count": 17,
   "metadata": {},
   "outputs": [
    {
     "name": "stdout",
     "output_type": "stream",
     "text": [
      "Epoch 1/20\n",
      "118/118 [==============================] - 3s 12ms/step - loss: 0.5105 - accuracy: 0.7599 - val_loss: 0.3064 - val_accuracy: 0.8793\n",
      "Epoch 2/20\n",
      "118/118 [==============================] - 1s 5ms/step - loss: 0.2189 - accuracy: 0.9224 - val_loss: 0.2745 - val_accuracy: 0.8874\n",
      "Epoch 3/20\n",
      "118/118 [==============================] - 1s 5ms/step - loss: 0.1518 - accuracy: 0.9487 - val_loss: 0.3057 - val_accuracy: 0.8839\n",
      "Epoch 4/20\n",
      "118/118 [==============================] - 1s 6ms/step - loss: 0.1136 - accuracy: 0.9621 - val_loss: 0.3446 - val_accuracy: 0.8834\n",
      "Epoch 5/20\n",
      "118/118 [==============================] - 1s 6ms/step - loss: 0.0817 - accuracy: 0.9733 - val_loss: 0.3941 - val_accuracy: 0.8716\n",
      "Epoch 6/20\n",
      "118/118 [==============================] - 1s 8ms/step - loss: 0.0663 - accuracy: 0.9803 - val_loss: 0.4200 - val_accuracy: 0.8783\n",
      "Epoch 7/20\n",
      "118/118 [==============================] - 1s 7ms/step - loss: 0.0434 - accuracy: 0.9876 - val_loss: 0.4764 - val_accuracy: 0.8725\n",
      "Epoch 8/20\n",
      "118/118 [==============================] - 1s 6ms/step - loss: 0.0294 - accuracy: 0.9919 - val_loss: 0.5642 - val_accuracy: 0.8704\n",
      "Epoch 9/20\n",
      "118/118 [==============================] - 1s 5ms/step - loss: 0.0190 - accuracy: 0.9961 - val_loss: 0.6092 - val_accuracy: 0.8683\n",
      "Epoch 10/20\n",
      "118/118 [==============================] - 1s 6ms/step - loss: 0.0113 - accuracy: 0.9977 - val_loss: 0.6902 - val_accuracy: 0.8664\n",
      "Epoch 11/20\n",
      "118/118 [==============================] - 1s 5ms/step - loss: 0.0072 - accuracy: 0.9986 - val_loss: 0.7933 - val_accuracy: 0.8625\n",
      "Epoch 12/20\n",
      "118/118 [==============================] - 1s 5ms/step - loss: 0.0044 - accuracy: 0.9992 - val_loss: 0.8984 - val_accuracy: 0.8646\n",
      "Epoch 13/20\n",
      "118/118 [==============================] - 1s 5ms/step - loss: 0.0017 - accuracy: 0.9998 - val_loss: 1.0207 - val_accuracy: 0.8645\n",
      "Epoch 14/20\n",
      "118/118 [==============================] - 1s 6ms/step - loss: 6.9002e-04 - accuracy: 0.9999 - val_loss: 1.1491 - val_accuracy: 0.8613\n",
      "Epoch 15/20\n",
      "118/118 [==============================] - 1s 8ms/step - loss: 3.4737e-04 - accuracy: 1.0000 - val_loss: 1.2618 - val_accuracy: 0.8604\n",
      "Epoch 16/20\n",
      "118/118 [==============================] - 1s 7ms/step - loss: 1.4362e-04 - accuracy: 1.0000 - val_loss: 1.3845 - val_accuracy: 0.8602\n",
      "Epoch 17/20\n",
      "118/118 [==============================] - 1s 9ms/step - loss: 8.0979e-05 - accuracy: 1.0000 - val_loss: 1.5289 - val_accuracy: 0.8620\n",
      "Epoch 18/20\n",
      "118/118 [==============================] - 1s 8ms/step - loss: 4.7582e-05 - accuracy: 1.0000 - val_loss: 1.6365 - val_accuracy: 0.8612\n",
      "Epoch 19/20\n",
      "118/118 [==============================] - 1s 7ms/step - loss: 9.6420e-06 - accuracy: 1.0000 - val_loss: 1.7591 - val_accuracy: 0.8574\n",
      "Epoch 20/20\n",
      "118/118 [==============================] - 1s 6ms/step - loss: 1.0492e-05 - accuracy: 1.0000 - val_loss: 1.9008 - val_accuracy: 0.8535\n"
     ]
    }
   ],
   "source": [
    "history = model.fit(partial_x_train,\n",
    "                    partial_y_train,\n",
    "                    epochs = 20,\n",
    "                    batch_size = 128,\n",
    "                    validation_data=(x_val, y_val))"
   ]
  },
  {
   "cell_type": "code",
   "execution_count": 18,
   "metadata": {},
   "outputs": [
    {
     "data": {
      "image/png": "[encoded data removed]",
      "text/plain": [
       "<Figure size 432x288 with 1 Axes>"
      ]
     },
     "metadata": {
      "needs_background": "light"
     },
     "output_type": "display_data"
    }
   ],
   "source": [
    "# loss 의 변화 시각화\n",
    "\n",
    "history_dict = history.history\n",
    "loss = history_dict['loss']\n",
    "val_loss = history_dict['val_loss']\n",
    "\n",
    "epochs = range(1,len(loss)+1)\n",
    "\n",
    "plt.plot(epochs, loss, 'bo', label='Training loss', color='limegreen')\n",
    "plt.plot(epochs, val_loss, 'b', label='Validation loss', color = 'violet')\n",
    "plt.title('Training and validation loss')\n",
    "plt.xlabel('Epochs')\n",
    "plt.ylabel('Loss')\n",
    "plt.legend()\n",
    "plt.show()"
   ]
  },
  {
   "cell_type": "markdown",
   "metadata": {},
   "source": [
    "**결과: batch size 가 64인 경우 epoch(학습 수)가 늘어날수록 Basic model 보다 train loss 는 점점 감소하는 추세이나, validation loss 는 점차 증가하는 모습이다. batch size 를 512에서 128로 줄여도 오버피팅 문제가 해결되지 않는다.**"
   ]
  },
  {
   "cell_type": "markdown",
   "metadata": {},
   "source": [
    "### (3) Basic model + optimizer = Adam\n",
    "최적화 함수(optimizer)는 오차 값(loss)을 가능한 낮추는 매개변수를 찾을 수 있도록 도와준다. 그 중 Adam 은 많은 경우에 높은 성능을 내는 최적화 함수로 유명하다. 따라서 최적화 함수를 RMSprop 에서 Adam 으로 변경해보았다.\n",
    "- activation function: relu, sigmoid\n",
    "- **optimizer: Adam**\n",
    "- loss function: binary_crossentropy\n",
    "- batch size: 512\n",
    "- epoch: 20"
   ]
  },
  {
   "cell_type": "code",
   "execution_count": 19,
   "metadata": {},
   "outputs": [],
   "source": [
    "model = models.Sequential()\n",
    "model.add(layers.Dense(16,activation='relu', input_shape=(10000,)))\n",
    "model.add(layers.Dense(16, activation='relu'))\n",
    "model.add(layers.Dense(1, activation='sigmoid'))"
   ]
  },
  {
   "cell_type": "code",
   "execution_count": 20,
   "metadata": {},
   "outputs": [],
   "source": [
    "model.compile(optimizer='adam',\n",
    "             loss='binary_crossentropy',\n",
    "             metrics=['accuracy'])"
   ]
  },
  {
   "cell_type": "code",
   "execution_count": 21,
   "metadata": {},
   "outputs": [],
   "source": [
    "x_val = x_train[:10000]\n",
    "partial_x_train = x_train[10000:]\n",
    "y_val = y_train[:10000]\n",
    "partial_y_train = y_train[10000:]"
   ]
  },
  {
   "cell_type": "code",
   "execution_count": 22,
   "metadata": {},
   "outputs": [
    {
     "name": "stdout",
     "output_type": "stream",
     "text": [
      "Epoch 1/20\n",
      "30/30 [==============================] - 2s 51ms/step - loss: 0.6168 - accuracy: 0.6834 - val_loss: 0.3848 - val_accuracy: 0.8607\n",
      "Epoch 2/20\n",
      "30/30 [==============================] - 1s 20ms/step - loss: 0.3089 - accuracy: 0.9002 - val_loss: 0.2972 - val_accuracy: 0.8834\n",
      "Epoch 3/20\n",
      "30/30 [==============================] - 1s 20ms/step - loss: 0.2012 - accuracy: 0.9404 - val_loss: 0.2789 - val_accuracy: 0.8885\n",
      "Epoch 4/20\n",
      "30/30 [==============================] - 1s 20ms/step - loss: 0.1483 - accuracy: 0.9559 - val_loss: 0.2836 - val_accuracy: 0.8864\n",
      "Epoch 5/20\n",
      "30/30 [==============================] - 1s 19ms/step - loss: 0.1129 - accuracy: 0.9690 - val_loss: 0.3042 - val_accuracy: 0.8805\n",
      "Epoch 6/20\n",
      "30/30 [==============================] - 1s 20ms/step - loss: 0.0895 - accuracy: 0.9786 - val_loss: 0.3214 - val_accuracy: 0.8815\n",
      "Epoch 7/20\n",
      "30/30 [==============================] - 1s 24ms/step - loss: 0.0671 - accuracy: 0.9875 - val_loss: 0.3452 - val_accuracy: 0.8793\n",
      "Epoch 8/20\n",
      "30/30 [==============================] - 1s 20ms/step - loss: 0.0477 - accuracy: 0.9917 - val_loss: 0.3717 - val_accuracy: 0.8769\n",
      "Epoch 9/20\n",
      "30/30 [==============================] - 1s 22ms/step - loss: 0.0346 - accuracy: 0.9960 - val_loss: 0.3979 - val_accuracy: 0.8760\n",
      "Epoch 10/20\n",
      "30/30 [==============================] - 1s 22ms/step - loss: 0.0252 - accuracy: 0.9984 - val_loss: 0.4258 - val_accuracy: 0.8753\n",
      "Epoch 11/20\n",
      "30/30 [==============================] - 1s 20ms/step - loss: 0.0178 - accuracy: 0.9991 - val_loss: 0.4568 - val_accuracy: 0.8746\n",
      "Epoch 12/20\n",
      "30/30 [==============================] - 1s 21ms/step - loss: 0.0130 - accuracy: 0.9995 - val_loss: 0.4759 - val_accuracy: 0.8711\n",
      "Epoch 13/20\n",
      "30/30 [==============================] - 1s 19ms/step - loss: 0.0095 - accuracy: 0.9999 - val_loss: 0.4988 - val_accuracy: 0.8702\n",
      "Epoch 14/20\n",
      "30/30 [==============================] - 1s 22ms/step - loss: 0.0079 - accuracy: 0.9996 - val_loss: 0.5215 - val_accuracy: 0.8693\n",
      "Epoch 15/20\n",
      "30/30 [==============================] - 1s 21ms/step - loss: 0.0059 - accuracy: 1.0000 - val_loss: 0.5382 - val_accuracy: 0.8701\n",
      "Epoch 16/20\n",
      "30/30 [==============================] - 1s 20ms/step - loss: 0.0049 - accuracy: 1.0000 - val_loss: 0.5548 - val_accuracy: 0.8693\n",
      "Epoch 17/20\n",
      "30/30 [==============================] - 1s 20ms/step - loss: 0.0040 - accuracy: 1.0000 - val_loss: 0.5709 - val_accuracy: 0.8689\n",
      "Epoch 18/20\n",
      "30/30 [==============================] - 1s 21ms/step - loss: 0.0034 - accuracy: 1.0000 - val_loss: 0.5849 - val_accuracy: 0.8684\n",
      "Epoch 19/20\n",
      "30/30 [==============================] - 1s 18ms/step - loss: 0.0030 - accuracy: 1.0000 - val_loss: 0.5979 - val_accuracy: 0.8684\n",
      "Epoch 20/20\n",
      "30/30 [==============================] - 1s 18ms/step - loss: 0.0024 - accuracy: 1.0000 - val_loss: 0.6101 - val_accuracy: 0.8681\n"
     ]
    }
   ],
   "source": [
    "history = model.fit(partial_x_train,\n",
    "                    partial_y_train,\n",
    "                    epochs = 20,\n",
    "                    batch_size = 512,\n",
    "                    validation_data=(x_val, y_val))"
   ]
  },
  {
   "cell_type": "code",
   "execution_count": 23,
   "metadata": {},
   "outputs": [
    {
     "data": {
      "image/png": "[encoded data removed]",
      "text/plain": [
       "<Figure size 432x288 with 1 Axes>"
      ]
     },
     "metadata": {
      "needs_background": "light"
     },
     "output_type": "display_data"
    }
   ],
   "source": [
    "# loss 의 변화 시각화\n",
    "\n",
    "history_dict = history.history\n",
    "loss = history_dict['loss']\n",
    "val_loss = history_dict['val_loss']\n",
    "\n",
    "epochs = range(1,len(loss)+1)\n",
    "\n",
    "plt.plot(epochs, loss, 'bo', label='Training loss', color='limegreen')\n",
    "plt.plot(epochs, val_loss, 'b', label='Validation loss', color = 'violet')\n",
    "plt.title('Training and validation loss')\n",
    "plt.xlabel('Epochs')\n",
    "plt.ylabel('Loss')\n",
    "plt.legend()\n",
    "plt.show()"
   ]
  },
  {
   "cell_type": "markdown",
   "metadata": {},
   "source": [
    "**결과: 최적화 함수를 Adam 으로 변경해도 epoch 가 증가할수록 validation loss 가 줄어들다가 다시 증가하고 있으며, 오버피팅 문제가 여전히 일어나고 있다.**"
   ]
  },
  {
   "cell_type": "markdown",
   "metadata": {},
   "source": [
    "### (4) Basic model + optimizer = SGD\n",
    "최적화 함수를 SGD(Stochastic Gradient Descent)로 변경해보았다. SGD는 확률적 경사 하강법으로, loss 의 최솟값까지 랜덤하게 데이터를 선정해 지그재그 모양을 그리며 이동한다.\n",
    "- activation function: relu, sigmoid\n",
    "- **optimizer: SGD**\n",
    "- loss function: binary_crossentropy\n",
    "- batch size: 512\n",
    "- epoch: 20"
   ]
  },
  {
   "cell_type": "code",
   "execution_count": 24,
   "metadata": {},
   "outputs": [],
   "source": [
    "model = models.Sequential()\n",
    "model.add(layers.Dense(16,activation='relu', input_shape=(10000,)))\n",
    "model.add(layers.Dense(16, activation='relu'))\n",
    "model.add(layers.Dense(1, activation='sigmoid'))"
   ]
  },
  {
   "cell_type": "code",
   "execution_count": 25,
   "metadata": {},
   "outputs": [],
   "source": [
    "model.compile(optimizer='sgd',\n",
    "             loss='binary_crossentropy',\n",
    "             metrics=['accuracy'])"
   ]
  },
  {
   "cell_type": "code",
   "execution_count": 26,
   "metadata": {},
   "outputs": [],
   "source": [
    "x_val = x_train[:10000]\n",
    "partial_x_train = x_train[10000:]\n",
    "y_val = y_train[:10000]\n",
    "partial_y_train = y_train[10000:]"
   ]
  },
  {
   "cell_type": "code",
   "execution_count": 27,
   "metadata": {},
   "outputs": [
    {
     "name": "stdout",
     "output_type": "stream",
     "text": [
      "Epoch 1/20\n",
      "30/30 [==============================] - 2s 53ms/step - loss: 0.6921 - accuracy: 0.5181 - val_loss: 0.6903 - val_accuracy: 0.5430\n",
      "Epoch 2/20\n",
      "30/30 [==============================] - 1s 17ms/step - loss: 0.6897 - accuracy: 0.5368 - val_loss: 0.6881 - val_accuracy: 0.5578\n",
      "Epoch 3/20\n",
      "30/30 [==============================] - 1s 17ms/step - loss: 0.6869 - accuracy: 0.5633 - val_loss: 0.6856 - val_accuracy: 0.5750\n",
      "Epoch 4/20\n",
      "30/30 [==============================] - 1s 19ms/step - loss: 0.6840 - accuracy: 0.5774 - val_loss: 0.6827 - val_accuracy: 0.5897\n",
      "Epoch 5/20\n",
      "30/30 [==============================] - 1s 17ms/step - loss: 0.6814 - accuracy: 0.5922 - val_loss: 0.6791 - val_accuracy: 0.6074\n",
      "Epoch 6/20\n",
      "30/30 [==============================] - 1s 19ms/step - loss: 0.6772 - accuracy: 0.6147 - val_loss: 0.6746 - val_accuracy: 0.6293\n",
      "Epoch 7/20\n",
      "30/30 [==============================] - 1s 18ms/step - loss: 0.6719 - accuracy: 0.6421 - val_loss: 0.6690 - val_accuracy: 0.6578\n",
      "Epoch 8/20\n",
      "30/30 [==============================] - 1s 22ms/step - loss: 0.6657 - accuracy: 0.6695 - val_loss: 0.6624 - val_accuracy: 0.6921\n",
      "Epoch 9/20\n",
      "30/30 [==============================] - 1s 19ms/step - loss: 0.6594 - accuracy: 0.7026 - val_loss: 0.6548 - val_accuracy: 0.7146\n",
      "Epoch 10/20\n",
      "30/30 [==============================] - 1s 21ms/step - loss: 0.6510 - accuracy: 0.7211 - val_loss: 0.6463 - val_accuracy: 0.7286\n",
      "Epoch 11/20\n",
      "30/30 [==============================] - 1s 20ms/step - loss: 0.6416 - accuracy: 0.7367 - val_loss: 0.6366 - val_accuracy: 0.7447\n",
      "Epoch 12/20\n",
      "30/30 [==============================] - 1s 22ms/step - loss: 0.6318 - accuracy: 0.7482 - val_loss: 0.6261 - val_accuracy: 0.7605\n",
      "Epoch 13/20\n",
      "30/30 [==============================] - 1s 20ms/step - loss: 0.6191 - accuracy: 0.7658 - val_loss: 0.6145 - val_accuracy: 0.7700\n",
      "Epoch 14/20\n",
      "30/30 [==============================] - 1s 19ms/step - loss: 0.6096 - accuracy: 0.7686 - val_loss: 0.6022 - val_accuracy: 0.7759\n",
      "Epoch 15/20\n",
      "30/30 [==============================] - 1s 23ms/step - loss: 0.5963 - accuracy: 0.7776 - val_loss: 0.5894 - val_accuracy: 0.7786\n",
      "Epoch 16/20\n",
      "30/30 [==============================] - 1s 20ms/step - loss: 0.5827 - accuracy: 0.7847 - val_loss: 0.5755 - val_accuracy: 0.7854\n",
      "Epoch 17/20\n",
      "30/30 [==============================] - 1s 19ms/step - loss: 0.5665 - accuracy: 0.7936 - val_loss: 0.5610 - val_accuracy: 0.7946\n",
      "Epoch 18/20\n",
      "30/30 [==============================] - 1s 18ms/step - loss: 0.5505 - accuracy: 0.8027 - val_loss: 0.5470 - val_accuracy: 0.7943\n",
      "Epoch 19/20\n",
      "30/30 [==============================] - 1s 18ms/step - loss: 0.5353 - accuracy: 0.8113 - val_loss: 0.5318 - val_accuracy: 0.8040\n",
      "Epoch 20/20\n",
      "30/30 [==============================] - 1s 18ms/step - loss: 0.5215 - accuracy: 0.8116 - val_loss: 0.5174 - val_accuracy: 0.8069\n"
     ]
    }
   ],
   "source": [
    "history = model.fit(partial_x_train,\n",
    "                    partial_y_train,\n",
    "                    epochs = 20,\n",
    "                    batch_size = 512,\n",
    "                    validation_data=(x_val, y_val))"
   ]
  },
  {
   "cell_type": "code",
   "execution_count": 28,
   "metadata": {},
   "outputs": [
    {
     "data": {
      "image/png": "[encoded data removed]",
      "text/plain": [
       "<Figure size 432x288 with 1 Axes>"
      ]
     },
     "metadata": {
      "needs_background": "light"
     },
     "output_type": "display_data"
    }
   ],
   "source": [
    "# loss 의 변화 시각화\n",
    "\n",
    "history_dict = history.history\n",
    "loss = history_dict['loss']\n",
    "val_loss = history_dict['val_loss']\n",
    "\n",
    "epochs = range(1,len(loss)+1)\n",
    "\n",
    "plt.plot(epochs, loss, 'bo', label='Training loss', color='limegreen')\n",
    "plt.plot(epochs, val_loss, 'b', label='Validation loss', color = 'violet')\n",
    "plt.title('Training and validation loss')\n",
    "plt.xlabel('Epochs')\n",
    "plt.ylabel('Loss')\n",
    "plt.legend()\n",
    "plt.show()"
   ]
  },
  {
   "cell_type": "markdown",
   "metadata": {},
   "source": [
    "**결과: 최적화 함수를 SGD 로 변경하자, training loss 와 validation loss 가 모두 안정적으로 감소하는 모양세를 볼 수 있었다. 이는 학습이 안정적으로 이루어졌으며, 오버피팅 문제를 해결했음을 보여준다. 그러나 예측 정확도가 80%이므로 정확도를 좀 더 올리기 위해 다른 파라미터를 변경하거나 신경망 레이어를 추가해볼 필요가 있다.**"
   ]
  },
  {
   "cell_type": "markdown",
   "metadata": {},
   "source": [
    "### (5) Basic model + optimizer = SGD + activation function = relu, tanh\n",
    "활성화 함수(Activation function)는 한 노드에 대한 입력값을 그 다음 노드에 보낼지 말지 결정하는 함수이다. 이번 시도에서는 마지막 층에 있는 sigmoid 함수를 모양이 비슷한 tanh 함수로 변경해 사용했다.\n",
    "- **activation function: relu, tanh**\n",
    "- optimizer: SGD\n",
    "- loss function: binary_crossentropy\n",
    "- batch size: 512\n",
    "- epoch: 20"
   ]
  },
  {
   "cell_type": "code",
   "execution_count": 29,
   "metadata": {},
   "outputs": [],
   "source": [
    "model = models.Sequential()\n",
    "model.add(layers.Dense(16,activation='relu', input_shape=(10000,)))\n",
    "model.add(layers.Dense(16, activation='relu'))\n",
    "model.add(layers.Dense(1, activation='tanh'))"
   ]
  },
  {
   "cell_type": "code",
   "execution_count": 30,
   "metadata": {},
   "outputs": [],
   "source": [
    "model.compile(optimizer='sgd',\n",
    "             loss='binary_crossentropy',\n",
    "             metrics=['accuracy'])"
   ]
  },
  {
   "cell_type": "code",
   "execution_count": 31,
   "metadata": {},
   "outputs": [],
   "source": [
    "x_val = x_train[:10000]\n",
    "partial_x_train = x_train[10000:]\n",
    "y_val = y_train[:10000]\n",
    "partial_y_train = y_train[10000:]"
   ]
  },
  {
   "cell_type": "code",
   "execution_count": 32,
   "metadata": {},
   "outputs": [
    {
     "name": "stdout",
     "output_type": "stream",
     "text": [
      "Epoch 1/20\n",
      "30/30 [==============================] - 2s 57ms/step - loss: 1.8675 - accuracy: 0.5050 - val_loss: 0.6902 - val_accuracy: 0.5420\n",
      "Epoch 2/20\n",
      "30/30 [==============================] - 1s 23ms/step - loss: 0.6866 - accuracy: 0.5523 - val_loss: 0.6704 - val_accuracy: 0.5901\n",
      "Epoch 3/20\n",
      "30/30 [==============================] - 0s 17ms/step - loss: 0.6596 - accuracy: 0.6066 - val_loss: 0.6792 - val_accuracy: 0.6008\n",
      "Epoch 4/20\n",
      "30/30 [==============================] - 1s 18ms/step - loss: 0.6392 - accuracy: 0.6554 - val_loss: 0.5809 - val_accuracy: 0.7193\n",
      "Epoch 5/20\n",
      "30/30 [==============================] - 1s 18ms/step - loss: 0.5771 - accuracy: 0.7117 - val_loss: 0.5307 - val_accuracy: 0.7679\n",
      "Epoch 6/20\n",
      "30/30 [==============================] - 1s 20ms/step - loss: 0.5218 - accuracy: 0.7715 - val_loss: 0.4939 - val_accuracy: 0.7884\n",
      "Epoch 7/20\n",
      "30/30 [==============================] - 1s 18ms/step - loss: 0.4908 - accuracy: 0.7918 - val_loss: 0.5432 - val_accuracy: 0.7752\n",
      "Epoch 8/20\n",
      "30/30 [==============================] - 1s 18ms/step - loss: 0.4768 - accuracy: 0.7866 - val_loss: 0.4816 - val_accuracy: 0.8045\n",
      "Epoch 9/20\n",
      "30/30 [==============================] - 1s 18ms/step - loss: 0.4428 - accuracy: 0.8204 - val_loss: 0.4391 - val_accuracy: 0.8215\n",
      "Epoch 10/20\n",
      "30/30 [==============================] - 1s 18ms/step - loss: 0.4248 - accuracy: 0.8247 - val_loss: 0.4244 - val_accuracy: 0.8261\n",
      "Epoch 11/20\n",
      "30/30 [==============================] - 1s 20ms/step - loss: 0.5449 - accuracy: 0.8055 - val_loss: 0.4989 - val_accuracy: 0.8184\n",
      "Epoch 12/20\n",
      "30/30 [==============================] - 1s 18ms/step - loss: 0.4326 - accuracy: 0.8394 - val_loss: 0.5446 - val_accuracy: 0.8144\n",
      "Epoch 13/20\n",
      "30/30 [==============================] - 1s 18ms/step - loss: 0.4214 - accuracy: 0.8360 - val_loss: 0.4129 - val_accuracy: 0.8319\n",
      "Epoch 14/20\n",
      "30/30 [==============================] - 1s 19ms/step - loss: 0.3924 - accuracy: 0.8484 - val_loss: 0.4424 - val_accuracy: 0.8433\n",
      "Epoch 15/20\n",
      "30/30 [==============================] - 1s 18ms/step - loss: 0.3687 - accuracy: 0.8563 - val_loss: 0.4773 - val_accuracy: 0.8398\n",
      "Epoch 16/20\n",
      "30/30 [==============================] - 1s 18ms/step - loss: 3.1928 - accuracy: 0.5366 - val_loss: 0.7641 - val_accuracy: 0.5038\n",
      "Epoch 17/20\n",
      "30/30 [==============================] - 1s 18ms/step - loss: 0.7732 - accuracy: 0.5126 - val_loss: 0.6717 - val_accuracy: 0.5833\n",
      "Epoch 18/20\n",
      "30/30 [==============================] - 1s 17ms/step - loss: 0.6611 - accuracy: 0.6143 - val_loss: 0.6318 - val_accuracy: 0.6582\n",
      "Epoch 19/20\n",
      "30/30 [==============================] - 1s 17ms/step - loss: 0.6127 - accuracy: 0.6970 - val_loss: 0.5781 - val_accuracy: 0.7422\n",
      "Epoch 20/20\n",
      "30/30 [==============================] - 1s 20ms/step - loss: 0.5629 - accuracy: 0.7505 - val_loss: 0.5379 - val_accuracy: 0.7625\n"
     ]
    }
   ],
   "source": [
    "history = model.fit(partial_x_train,\n",
    "                    partial_y_train,\n",
    "                    epochs = 20,\n",
    "                    batch_size = 512,\n",
    "                    validation_data=(x_val, y_val))"
   ]
  },
  {
   "cell_type": "code",
   "execution_count": 33,
   "metadata": {},
   "outputs": [
    {
     "data": {
      "image/png": "[encoded data removed]",
      "text/plain": [
       "<Figure size 432x288 with 1 Axes>"
      ]
     },
     "metadata": {
      "needs_background": "light"
     },
     "output_type": "display_data"
    }
   ],
   "source": [
    "# loss 의 변화 시각화\n",
    "\n",
    "history_dict = history.history\n",
    "loss = history_dict['loss']\n",
    "val_loss = history_dict['val_loss']\n",
    "\n",
    "epochs = range(1,len(loss)+1)\n",
    "\n",
    "plt.plot(epochs, loss, 'bo', label='Training loss', color='limegreen')\n",
    "plt.plot(epochs, val_loss, 'b', label='Validation loss', color = 'violet')\n",
    "plt.title('Training and validation loss')\n",
    "plt.xlabel('Epochs')\n",
    "plt.ylabel('Loss')\n",
    "plt.legend()\n",
    "plt.show()"
   ]
  },
  {
   "cell_type": "markdown",
   "metadata": {},
   "source": [
    "**결과: 마지막 층에 있던 활성화 함수 sigmoid 를 tanh 로 변경하자, 학습이 안정적으로 되지 않는 모습을 볼 수 있었다.**"
   ]
  },
  {
   "cell_type": "markdown",
   "metadata": {},
   "source": [
    "### (6) Basic model + optimizer = SGD + activation function = relu, tanh + Adding more layers\n",
    "이번에는 앞선 실험과 파라미터를 동일하게 하되, 신경망 층을 추가해보았다. 마지막 층에만 tanh 활성화 함수를 사용하고, 나머지 층에는 relu 함수를 사용했다. \n",
    "- activation function: relu, tanh\n",
    "- optimizer: SGD\n",
    "- loss function: binary_crossentropy\n",
    "- batch size: 512\n",
    "- epoch: 20"
   ]
  },
  {
   "cell_type": "code",
   "execution_count": 34,
   "metadata": {},
   "outputs": [],
   "source": [
    "model = models.Sequential()\n",
    "model.add(layers.Dense(16,activation='relu', input_shape=(10000,)))\n",
    "model.add(layers.Dense(16, activation='relu'))\n",
    "model.add(layers.Dense(16, activation='relu'))\n",
    "model.add(layers.Dense(16, activation='relu'))\n",
    "model.add(layers.Dense(16, activation='relu'))\n",
    "model.add(layers.Dense(16, activation='relu'))\n",
    "model.add(layers.Dense(16, activation='relu'))\n",
    "model.add(layers.Dense(1, activation='tanh'))"
   ]
  },
  {
   "cell_type": "code",
   "execution_count": 35,
   "metadata": {},
   "outputs": [],
   "source": [
    "model.compile(optimizer='sgd',\n",
    "             loss='binary_crossentropy',\n",
    "             metrics=['accuracy'])"
   ]
  },
  {
   "cell_type": "code",
   "execution_count": 36,
   "metadata": {},
   "outputs": [],
   "source": [
    "x_val = x_train[:10000]\n",
    "partial_x_train = x_train[10000:]\n",
    "y_val = y_train[:10000]\n",
    "partial_y_train = y_train[10000:]"
   ]
  },
  {
   "cell_type": "code",
   "execution_count": 37,
   "metadata": {},
   "outputs": [
    {
     "name": "stdout",
     "output_type": "stream",
     "text": [
      "Epoch 1/20\n",
      "30/30 [==============================] - 2s 55ms/step - loss: 1.5532 - accuracy: 0.4994 - val_loss: 0.6945 - val_accuracy: 0.5053\n",
      "Epoch 2/20\n",
      "30/30 [==============================] - 1s 19ms/step - loss: 0.6943 - accuracy: 0.4980 - val_loss: 0.6925 - val_accuracy: 0.5130\n",
      "Epoch 3/20\n",
      "30/30 [==============================] - 1s 19ms/step - loss: 0.6925 - accuracy: 0.5201 - val_loss: 0.6921 - val_accuracy: 0.5264\n",
      "Epoch 4/20\n",
      "30/30 [==============================] - 1s 19ms/step - loss: 0.6916 - accuracy: 0.5453 - val_loss: 0.6911 - val_accuracy: 0.5426\n",
      "Epoch 5/20\n",
      "30/30 [==============================] - 1s 18ms/step - loss: 0.6904 - accuracy: 0.5530 - val_loss: 0.6885 - val_accuracy: 0.5798\n",
      "Epoch 6/20\n",
      "30/30 [==============================] - 1s 24ms/step - loss: 0.6872 - accuracy: 0.5806 - val_loss: 0.6832 - val_accuracy: 0.6089\n",
      "Epoch 7/20\n",
      "30/30 [==============================] - 1s 23ms/step - loss: 0.6801 - accuracy: 0.6154 - val_loss: 0.6745 - val_accuracy: 0.6370\n",
      "Epoch 8/20\n",
      "30/30 [==============================] - 1s 22ms/step - loss: 0.6694 - accuracy: 0.6476 - val_loss: 0.6593 - val_accuracy: 0.6557\n",
      "Epoch 9/20\n",
      "30/30 [==============================] - 1s 20ms/step - loss: 0.6519 - accuracy: 0.6936 - val_loss: 0.6352 - val_accuracy: 0.7234\n",
      "Epoch 10/20\n",
      "30/30 [==============================] - 1s 20ms/step - loss: 0.6260 - accuracy: 0.7341 - val_loss: 0.6040 - val_accuracy: 0.7481\n",
      "Epoch 11/20\n",
      "30/30 [==============================] - 1s 20ms/step - loss: 0.5897 - accuracy: 0.7634 - val_loss: 0.5607 - val_accuracy: 0.7705\n",
      "Epoch 12/20\n",
      "30/30 [==============================] - 1s 19ms/step - loss: 0.5425 - accuracy: 0.7857 - val_loss: 0.5107 - val_accuracy: 0.7902\n",
      "Epoch 13/20\n",
      "30/30 [==============================] - 1s 19ms/step - loss: 0.4880 - accuracy: 0.8058 - val_loss: 0.4653 - val_accuracy: 0.8000\n",
      "Epoch 14/20\n",
      "30/30 [==============================] - 1s 18ms/step - loss: 0.4341 - accuracy: 0.8252 - val_loss: 0.4187 - val_accuracy: 0.8220\n",
      "Epoch 15/20\n",
      "30/30 [==============================] - 1s 19ms/step - loss: 0.3960 - accuracy: 0.8341 - val_loss: 0.4640 - val_accuracy: 0.7987\n",
      "Epoch 16/20\n",
      "30/30 [==============================] - 1s 18ms/step - loss: 0.3779 - accuracy: 0.8365 - val_loss: 0.3857 - val_accuracy: 0.8253\n",
      "Epoch 17/20\n",
      "30/30 [==============================] - 1s 19ms/step - loss: 0.3727 - accuracy: 0.8365 - val_loss: 0.3575 - val_accuracy: 0.8489\n",
      "Epoch 18/20\n",
      "30/30 [==============================] - 1s 21ms/step - loss: 0.3507 - accuracy: 0.8479 - val_loss: 0.4166 - val_accuracy: 0.8035\n",
      "Epoch 19/20\n",
      "30/30 [==============================] - 1s 20ms/step - loss: 0.3753 - accuracy: 0.8368 - val_loss: 0.3759 - val_accuracy: 0.8307\n",
      "Epoch 20/20\n",
      "30/30 [==============================] - 1s 21ms/step - loss: 0.3254 - accuracy: 0.8663 - val_loss: 0.3644 - val_accuracy: 0.8387\n"
     ]
    }
   ],
   "source": [
    "history = model.fit(partial_x_train,\n",
    "                    partial_y_train,\n",
    "                    epochs = 20,\n",
    "                    batch_size = 512,\n",
    "                    validation_data=(x_val, y_val))"
   ]
  },
  {
   "cell_type": "code",
   "execution_count": 38,
   "metadata": {},
   "outputs": [
    {
     "data": {
      "image/png": "[encoded data removed]",
      "text/plain": [
       "<Figure size 432x288 with 1 Axes>"
      ]
     },
     "metadata": {
      "needs_background": "light"
     },
     "output_type": "display_data"
    }
   ],
   "source": [
    "# loss 의 변화 시각화\n",
    "\n",
    "history_dict = history.history\n",
    "loss = history_dict['loss']\n",
    "val_loss = history_dict['val_loss']\n",
    "\n",
    "epochs = range(1,len(loss)+1)\n",
    "\n",
    "plt.plot(epochs, loss, 'bo', label='Training loss', color='limegreen')\n",
    "plt.plot(epochs, val_loss, 'b', label='Validation loss', color = 'violet')\n",
    "plt.title('Training and validation loss')\n",
    "plt.xlabel('Epochs')\n",
    "plt.ylabel('Loss')\n",
    "plt.legend()\n",
    "plt.show()"
   ]
  },
  {
   "cell_type": "markdown",
   "metadata": {},
   "source": [
    "**결과: 신경망 층을 추가하자, training loss 와 validation loss 모두 감소하는 추세였고, 예측 정확도도 83% 으로 오르는 것을 볼 수 있었다. 신경망 층을 추가하면 추가하지 않았을 때보다 학습이 안정적으로 되는 모습을 보였다.**"
   ]
  },
  {
   "cell_type": "markdown",
   "metadata": {},
   "source": [
    "### (7) Basic model + optimizer = SGD + epoch = 50\n",
    "epoch(학습 수)를 20번보다 많이 늘리면 정확도가 늘어날 것이라고 예상했다. 따라서 이전 실험과 같은 조건에서 학습 수를 50번으로 늘려 학습을 진행해보았다.\n",
    "- activation function: relu, sigmoid\n",
    "- optimizer: SGD\n",
    "- loss function: binary_crossentropy\n",
    "- batch size: 512\n",
    "- **epoch: 50**"
   ]
  },
  {
   "cell_type": "code",
   "execution_count": 64,
   "metadata": {},
   "outputs": [],
   "source": [
    "model = models.Sequential()\n",
    "model.add(layers.Dense(16,activation='relu', input_shape=(10000,)))\n",
    "model.add(layers.Dense(16, activation='relu'))\n",
    "model.add(layers.Dense(1, activation='sigmoid'))"
   ]
  },
  {
   "cell_type": "code",
   "execution_count": 65,
   "metadata": {},
   "outputs": [],
   "source": [
    "model.compile(optimizer='sgd',\n",
    "             loss='binary_crossentropy',\n",
    "             metrics=['accuracy'])"
   ]
  },
  {
   "cell_type": "code",
   "execution_count": 66,
   "metadata": {},
   "outputs": [],
   "source": [
    "x_val = x_train[:10000]\n",
    "partial_x_train = x_train[10000:]\n",
    "y_val = y_train[:10000]\n",
    "partial_y_train = y_train[10000:]"
   ]
  },
  {
   "cell_type": "code",
   "execution_count": 67,
   "metadata": {},
   "outputs": [
    {
     "name": "stdout",
     "output_type": "stream",
     "text": [
      "Epoch 1/50\n",
      "30/30 [==============================] - 3s 69ms/step - loss: 0.6977 - accuracy: 0.4994 - val_loss: 0.6900 - val_accuracy: 0.5257\n",
      "Epoch 2/50\n",
      "30/30 [==============================] - 1s 26ms/step - loss: 0.6884 - accuracy: 0.5332 - val_loss: 0.6848 - val_accuracy: 0.5724\n",
      "Epoch 3/50\n",
      "30/30 [==============================] - 1s 25ms/step - loss: 0.6827 - accuracy: 0.5893 - val_loss: 0.6766 - val_accuracy: 0.6118\n",
      "Epoch 4/50\n",
      "30/30 [==============================] - 1s 21ms/step - loss: 0.6720 - accuracy: 0.6350 - val_loss: 0.6643 - val_accuracy: 0.6614\n",
      "Epoch 5/50\n",
      "30/30 [==============================] - 1s 21ms/step - loss: 0.6584 - accuracy: 0.6809 - val_loss: 0.6480 - val_accuracy: 0.7024\n",
      "Epoch 6/50\n",
      "30/30 [==============================] - 1s 25ms/step - loss: 0.6416 - accuracy: 0.7143 - val_loss: 0.6301 - val_accuracy: 0.7376\n",
      "Epoch 7/50\n",
      "30/30 [==============================] - 1s 21ms/step - loss: 0.6211 - accuracy: 0.7529 - val_loss: 0.6107 - val_accuracy: 0.7547\n",
      "Epoch 8/50\n",
      "30/30 [==============================] - 1s 19ms/step - loss: 0.6029 - accuracy: 0.7671 - val_loss: 0.5913 - val_accuracy: 0.7705\n",
      "Epoch 9/50\n",
      "30/30 [==============================] - 1s 17ms/step - loss: 0.5813 - accuracy: 0.7874 - val_loss: 0.5717 - val_accuracy: 0.7819\n",
      "Epoch 10/50\n",
      "30/30 [==============================] - 1s 18ms/step - loss: 0.5607 - accuracy: 0.7976 - val_loss: 0.5523 - val_accuracy: 0.7901\n",
      "Epoch 11/50\n",
      "30/30 [==============================] - 1s 18ms/step - loss: 0.5412 - accuracy: 0.8092 - val_loss: 0.5335 - val_accuracy: 0.7985\n",
      "Epoch 12/50\n",
      "30/30 [==============================] - 1s 18ms/step - loss: 0.5217 - accuracy: 0.8137 - val_loss: 0.5154 - val_accuracy: 0.8061\n",
      "Epoch 13/50\n",
      "30/30 [==============================] - 0s 17ms/step - loss: 0.5016 - accuracy: 0.8210 - val_loss: 0.4986 - val_accuracy: 0.8128\n",
      "Epoch 14/50\n",
      "30/30 [==============================] - 1s 17ms/step - loss: 0.4857 - accuracy: 0.8269 - val_loss: 0.4828 - val_accuracy: 0.8190\n",
      "Epoch 15/50\n",
      "30/30 [==============================] - 1s 19ms/step - loss: 0.4671 - accuracy: 0.8303 - val_loss: 0.4698 - val_accuracy: 0.8170\n",
      "Epoch 16/50\n",
      "30/30 [==============================] - 1s 21ms/step - loss: 0.4529 - accuracy: 0.8358 - val_loss: 0.4545 - val_accuracy: 0.8282\n",
      "Epoch 17/50\n",
      "30/30 [==============================] - 1s 18ms/step - loss: 0.4416 - accuracy: 0.8366 - val_loss: 0.4421 - val_accuracy: 0.8312\n",
      "Epoch 18/50\n",
      "30/30 [==============================] - 1s 18ms/step - loss: 0.4204 - accuracy: 0.8482 - val_loss: 0.4306 - val_accuracy: 0.8324\n",
      "Epoch 19/50\n",
      "30/30 [==============================] - 1s 17ms/step - loss: 0.4115 - accuracy: 0.8477 - val_loss: 0.4207 - val_accuracy: 0.8347\n",
      "Epoch 20/50\n",
      "30/30 [==============================] - 1s 17ms/step - loss: 0.4059 - accuracy: 0.8461 - val_loss: 0.4107 - val_accuracy: 0.8380\n",
      "Epoch 21/50\n",
      "30/30 [==============================] - 1s 20ms/step - loss: 0.3987 - accuracy: 0.8472 - val_loss: 0.4024 - val_accuracy: 0.8401\n",
      "Epoch 22/50\n",
      "30/30 [==============================] - 1s 21ms/step - loss: 0.3805 - accuracy: 0.8571 - val_loss: 0.3952 - val_accuracy: 0.8426\n",
      "Epoch 23/50\n",
      "30/30 [==============================] - 1s 23ms/step - loss: 0.3732 - accuracy: 0.8596 - val_loss: 0.3872 - val_accuracy: 0.8466\n",
      "Epoch 24/50\n",
      "30/30 [==============================] - 1s 23ms/step - loss: 0.3657 - accuracy: 0.8620 - val_loss: 0.3813 - val_accuracy: 0.8458\n",
      "Epoch 25/50\n",
      "30/30 [==============================] - 1s 20ms/step - loss: 0.3535 - accuracy: 0.8654 - val_loss: 0.3746 - val_accuracy: 0.8498\n",
      "Epoch 26/50\n",
      "30/30 [==============================] - 1s 20ms/step - loss: 0.3469 - accuracy: 0.8699 - val_loss: 0.3694 - val_accuracy: 0.8504\n",
      "Epoch 27/50\n",
      "30/30 [==============================] - 1s 20ms/step - loss: 0.3397 - accuracy: 0.8724 - val_loss: 0.3643 - val_accuracy: 0.8518\n",
      "Epoch 28/50\n",
      "30/30 [==============================] - 1s 21ms/step - loss: 0.3348 - accuracy: 0.8738 - val_loss: 0.3600 - val_accuracy: 0.8530\n",
      "Epoch 29/50\n",
      "30/30 [==============================] - 1s 21ms/step - loss: 0.3307 - accuracy: 0.8735 - val_loss: 0.3552 - val_accuracy: 0.8554\n",
      "Epoch 30/50\n",
      "30/30 [==============================] - 1s 18ms/step - loss: 0.3250 - accuracy: 0.8766 - val_loss: 0.3511 - val_accuracy: 0.8563\n",
      "Epoch 31/50\n",
      "30/30 [==============================] - 1s 18ms/step - loss: 0.3181 - accuracy: 0.8795 - val_loss: 0.3492 - val_accuracy: 0.8566\n",
      "Epoch 32/50\n",
      "30/30 [==============================] - 1s 17ms/step - loss: 0.3151 - accuracy: 0.8784 - val_loss: 0.3443 - val_accuracy: 0.8583\n",
      "Epoch 33/50\n",
      "30/30 [==============================] - 1s 17ms/step - loss: 0.3050 - accuracy: 0.8839 - val_loss: 0.3415 - val_accuracy: 0.8598\n",
      "Epoch 34/50\n",
      "30/30 [==============================] - 0s 17ms/step - loss: 0.3087 - accuracy: 0.8794 - val_loss: 0.3382 - val_accuracy: 0.8610\n",
      "Epoch 35/50\n",
      "30/30 [==============================] - 1s 17ms/step - loss: 0.2989 - accuracy: 0.8853 - val_loss: 0.3366 - val_accuracy: 0.8602\n",
      "Epoch 36/50\n",
      "30/30 [==============================] - 1s 18ms/step - loss: 0.2977 - accuracy: 0.8846 - val_loss: 0.3335 - val_accuracy: 0.8636\n",
      "Epoch 37/50\n",
      "30/30 [==============================] - 1s 17ms/step - loss: 0.2979 - accuracy: 0.8868 - val_loss: 0.3307 - val_accuracy: 0.8643\n",
      "Epoch 38/50\n",
      "30/30 [==============================] - 1s 17ms/step - loss: 0.2921 - accuracy: 0.8892 - val_loss: 0.3281 - val_accuracy: 0.8656\n",
      "Epoch 39/50\n",
      "30/30 [==============================] - 1s 18ms/step - loss: 0.2798 - accuracy: 0.8926 - val_loss: 0.3264 - val_accuracy: 0.8649\n",
      "Epoch 40/50\n",
      "30/30 [==============================] - 1s 17ms/step - loss: 0.2814 - accuracy: 0.8908 - val_loss: 0.3237 - val_accuracy: 0.8665\n",
      "Epoch 41/50\n",
      "30/30 [==============================] - 1s 17ms/step - loss: 0.2747 - accuracy: 0.8954 - val_loss: 0.3218 - val_accuracy: 0.8676\n",
      "Epoch 42/50\n",
      "30/30 [==============================] - 1s 18ms/step - loss: 0.2780 - accuracy: 0.8945 - val_loss: 0.3200 - val_accuracy: 0.8678\n",
      "Epoch 43/50\n",
      "30/30 [==============================] - 1s 17ms/step - loss: 0.2649 - accuracy: 0.8995 - val_loss: 0.3192 - val_accuracy: 0.8678\n",
      "Epoch 44/50\n",
      "30/30 [==============================] - 1s 19ms/step - loss: 0.2739 - accuracy: 0.8927 - val_loss: 0.3168 - val_accuracy: 0.8686\n",
      "Epoch 45/50\n",
      "30/30 [==============================] - 1s 22ms/step - loss: 0.2662 - accuracy: 0.8972 - val_loss: 0.3155 - val_accuracy: 0.8692\n",
      "Epoch 46/50\n",
      "30/30 [==============================] - 1s 21ms/step - loss: 0.2632 - accuracy: 0.8996 - val_loss: 0.3204 - val_accuracy: 0.8665\n",
      "Epoch 47/50\n",
      "30/30 [==============================] - 1s 20ms/step - loss: 0.2614 - accuracy: 0.9006 - val_loss: 0.3143 - val_accuracy: 0.8706\n",
      "Epoch 48/50\n",
      "30/30 [==============================] - 1s 18ms/step - loss: 0.2503 - accuracy: 0.9031 - val_loss: 0.3117 - val_accuracy: 0.8716\n",
      "Epoch 49/50\n",
      "30/30 [==============================] - 1s 17ms/step - loss: 0.2573 - accuracy: 0.8998 - val_loss: 0.3118 - val_accuracy: 0.8718\n",
      "Epoch 50/50\n",
      "30/30 [==============================] - 1s 17ms/step - loss: 0.2481 - accuracy: 0.9068 - val_loss: 0.3102 - val_accuracy: 0.8722\n"
     ]
    }
   ],
   "source": [
    "history = model.fit(partial_x_train,\n",
    "                    partial_y_train,\n",
    "                    epochs = 50,\n",
    "                    batch_size = 512,\n",
    "                    validation_data=(x_val, y_val))"
   ]
  },
  {
   "cell_type": "code",
   "execution_count": 68,
   "metadata": {},
   "outputs": [
    {
     "data": {
      "image/png": "[encoded data removed]",
      "text/plain": [
       "<Figure size 432x288 with 1 Axes>"
      ]
     },
     "metadata": {
      "needs_background": "light"
     },
     "output_type": "display_data"
    }
   ],
   "source": [
    "# loss 의 변화 시각화\n",
    "\n",
    "history_dict = history.history\n",
    "loss = history_dict['loss']\n",
    "val_loss = history_dict['val_loss']\n",
    "\n",
    "epochs = range(1,len(loss)+1)\n",
    "\n",
    "plt.plot(epochs, loss, 'bo', label='Training loss', color='limegreen')\n",
    "plt.plot(epochs, val_loss, 'b', label='Validation loss', color = 'violet')\n",
    "plt.title('Training and validation loss')\n",
    "plt.xlabel('Epochs')\n",
    "plt.ylabel('Loss')\n",
    "plt.legend()\n",
    "plt.show()"
   ]
  },
  {
   "cell_type": "markdown",
   "metadata": {},
   "source": [
    "**결과: epoch(학습 수)를 50번으로 늘렸으나 오버피팅이 되지 않았고 학습이 안정적으로 진행되어 training loss 와 validation loss 가 모두 감소하는 추세를 보여주었다. 또한, 예측 정확도가 87%로 현재까지의 실험에서 가장 높은 정확도를 보여주었다.**"
   ]
  },
  {
   "cell_type": "markdown",
   "metadata": {},
   "source": [
    "## Result\n",
    "실험 결과, 가장 기본적인 신경망 모델에서 최적화 함수를 SGD 로 변경했으며 epoch 를 50으로 늘렸을 때 예측 정확도가 **87%** 로 나왔다. 또한, 이 경우에 신경망 학습이 안정적으로 되었기 때문에 training loss 와 validation loss 가 모두 줄어드는 추세를 보였으며, 기존에 있었던 오버피팅 문제를 해결할 수 있었다."
   ]
  },
  {
   "cell_type": "code",
   "execution_count": null,
   "metadata": {},
   "outputs": [],
   "source": []
  }
 ],
 "metadata": {
  "kernelspec": {
   "display_name": "Python 3",
   "language": "python",
   "name": "python3"
  },
  "language_info": {
   "codemirror_mode": {
    "name": "ipython",
    "version": 3
   },
   "file_extension": ".py",
   "mimetype": "text/x-python",
   "name": "python",
   "nbconvert_exporter": "python",
   "pygments_lexer": "ipython3",
   "version": "3.8.5"
  }
 },
 "nbformat": 4,
 "nbformat_minor": 4
}
