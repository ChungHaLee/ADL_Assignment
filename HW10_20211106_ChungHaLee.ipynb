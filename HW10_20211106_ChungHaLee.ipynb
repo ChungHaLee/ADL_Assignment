{
 "cells": [
  {
   "cell_type": "markdown",
   "metadata": {},
   "source": [
    "# Homework 10: GAN, VAE"
   ]
  },
  {
   "cell_type": "markdown",
   "metadata": {},
   "source": [
    "## GAN - DCGAN\n",
    "- Anime Face Dataset 을 DCGAN 에 활용해 이미지를 생성해보자"
   ]
  },
  {
   "cell_type": "code",
   "execution_count": 1,
   "metadata": {},
   "outputs": [],
   "source": [
    "import abc\n",
    "import tensorflow as tf\n",
    "from keras import Sequential, Input\n",
    "from keras.layers import Conv2D, LeakyReLU, Flatten, Dropout, Dense, Reshape, Conv2DTranspose\n",
    "from keras.losses import BinaryCrossentropy\n",
    "from keras.optimizers import Adam\n",
    "from tensorflow import keras\n",
    "from tensorflow.keras.preprocessing import image_dataset_from_directory\n",
    "from PIL import Image\n",
    "import matplotlib.pyplot as plt\n",
    "import numpy as np\n",
    "import tensorflow as tf\n",
    "from tensorflow import keras\n",
    "from tensorflow.keras import layers\n",
    "import numpy as np\n",
    "import matplotlib.pyplot as plt\n",
    "import os\n",
    "import gdown"
   ]
  },
  {
   "cell_type": "code",
   "execution_count": 2,
   "metadata": {},
   "outputs": [
    {
     "name": "stdout",
     "output_type": "stream",
     "text": [
      "Found 63565 files belonging to 3 classes.\n"
     ]
    }
   ],
   "source": [
    "dataset = keras.preprocessing.image_dataset_from_directory(\n",
    "    \"/Users/lifeofpy/ADL/\", label_mode=None, image_size=(64, 64), batch_size=32\n",
    ")\n",
    "dataset = dataset.map(lambda x: x / 255.0)"
   ]
  },
  {
   "cell_type": "code",
   "execution_count": 3,
   "metadata": {},
   "outputs": [
    {
     "data": {
      "image/png": "[encoded data removed]",
      "text/plain": [
       "<Figure size 432x288 with 1 Axes>"
      ]
     },
     "metadata": {
      "needs_background": "light"
     },
     "output_type": "display_data"
    }
   ],
   "source": [
    "# Sample Image\n",
    "for x in dataset:\n",
    "    plt.axis(\"off\")\n",
    "    plt.imshow((x.numpy() * 255).astype(\"int32\")[0])\n",
    "    break"
   ]
  },
  {
   "cell_type": "code",
   "execution_count": 4,
   "metadata": {},
   "outputs": [
    {
     "name": "stdout",
     "output_type": "stream",
     "text": [
      "Model: \"discriminator\"\n",
      "_________________________________________________________________\n",
      "Layer (type)                 Output Shape              Param #   \n",
      "=================================================================\n",
      "conv2d (Conv2D)              (None, 32, 32, 64)        3136      \n",
      "_________________________________________________________________\n",
      "leaky_re_lu (LeakyReLU)      (None, 32, 32, 64)        0         \n",
      "_________________________________________________________________\n",
      "conv2d_1 (Conv2D)            (None, 16, 16, 128)       131200    \n",
      "_________________________________________________________________\n",
      "leaky_re_lu_1 (LeakyReLU)    (None, 16, 16, 128)       0         \n",
      "_________________________________________________________________\n",
      "flatten (Flatten)            (None, 32768)             0         \n",
      "_________________________________________________________________\n",
      "dropout (Dropout)            (None, 32768)             0         \n",
      "_________________________________________________________________\n",
      "dense (Dense)                (None, 1)                 32769     \n",
      "=================================================================\n",
      "Total params: 167,105\n",
      "Trainable params: 167,105\n",
      "Non-trainable params: 0\n",
      "_________________________________________________________________\n"
     ]
    }
   ],
   "source": [
    "discriminator = keras.Sequential(\n",
    "    [\n",
    "        keras.Input(shape=(64, 64, 3)),\n",
    "        layers.Conv2D(64, kernel_size=4, strides=2, padding=\"same\"),\n",
    "        layers.LeakyReLU(alpha=0.2),\n",
    "        layers.Conv2D(128, kernel_size=4, strides=2, padding=\"same\"),\n",
    "        layers.LeakyReLU(alpha=0.2),\n",
    "        # layers.Conv2D(128, kernel_size=4, strides=2, padding=\"same\"),\n",
    "        # layers.LeakyReLU(alpha=0.2),\n",
    "        layers.Flatten(),\n",
    "        layers.Dropout(0.2),\n",
    "        layers.Dense(1, activation=\"sigmoid\"),\n",
    "    ],\n",
    "    name=\"discriminator\",\n",
    ")\n",
    "discriminator.summary()"
   ]
  },
  {
   "cell_type": "code",
   "execution_count": 5,
   "metadata": {},
   "outputs": [
    {
     "name": "stdout",
     "output_type": "stream",
     "text": [
      "Model: \"generator\"\n",
      "_________________________________________________________________\n",
      "Layer (type)                 Output Shape              Param #   \n",
      "=================================================================\n",
      "dense_1 (Dense)              (None, 8192)              827392    \n",
      "_________________________________________________________________\n",
      "reshape (Reshape)            (None, 8, 8, 128)         0         \n",
      "_________________________________________________________________\n",
      "conv2d_transpose (Conv2DTran (None, 16, 16, 128)       262272    \n",
      "_________________________________________________________________\n",
      "leaky_re_lu_2 (LeakyReLU)    (None, 16, 16, 128)       0         \n",
      "_________________________________________________________________\n",
      "conv2d_transpose_1 (Conv2DTr (None, 32, 32, 64)        131136    \n",
      "_________________________________________________________________\n",
      "leaky_re_lu_3 (LeakyReLU)    (None, 32, 32, 64)        0         \n",
      "_________________________________________________________________\n",
      "conv2d_transpose_2 (Conv2DTr (None, 64, 64, 30)        30750     \n",
      "_________________________________________________________________\n",
      "leaky_re_lu_4 (LeakyReLU)    (None, 64, 64, 30)        0         \n",
      "_________________________________________________________________\n",
      "conv2d_2 (Conv2D)            (None, 64, 64, 3)         2253      \n",
      "=================================================================\n",
      "Total params: 1,253,803\n",
      "Trainable params: 1,253,803\n",
      "Non-trainable params: 0\n",
      "_________________________________________________________________\n"
     ]
    }
   ],
   "source": [
    "latent_dim = 100\n",
    "\n",
    "generator = keras.Sequential(\n",
    "    [\n",
    "        keras.Input(shape=(latent_dim,)),\n",
    "        layers.Dense(8 * 8 * 128),\n",
    "        layers.Reshape((8, 8, 128)),\n",
    "        layers.Conv2DTranspose(128, kernel_size=4, strides=2, padding=\"same\"),\n",
    "        layers.LeakyReLU(alpha=0.2),\n",
    "        layers.Conv2DTranspose(64, kernel_size=4, strides=2, padding=\"same\"),\n",
    "        layers.LeakyReLU(alpha=0.2),\n",
    "        layers.Conv2DTranspose(30, kernel_size=4, strides=2, padding=\"same\"),\n",
    "        layers.LeakyReLU(alpha=0.2),\n",
    "        layers.Conv2D(3, kernel_size=5, padding=\"same\", activation=\"sigmoid\"),\n",
    "    ],\n",
    "    name=\"generator\",\n",
    ")\n",
    "generator.summary()"
   ]
  },
  {
   "cell_type": "code",
   "execution_count": 6,
   "metadata": {},
   "outputs": [],
   "source": [
    "class GAN(keras.Model):\n",
    "    def __init__(self, discriminator, generator, latent_dim):\n",
    "        super(GAN, self).__init__()\n",
    "        self.discriminator = discriminator\n",
    "        self.generator = generator\n",
    "        self.latent_dim = latent_dim\n",
    "\n",
    "    def compile(self, d_optimizer, g_optimizer, loss_fn):\n",
    "        super(GAN, self).compile()\n",
    "        self.d_optimizer = d_optimizer\n",
    "        self.g_optimizer = g_optimizer\n",
    "        self.loss_fn = loss_fn\n",
    "        self.d_loss_metric = keras.metrics.Mean(name=\"d_loss\")\n",
    "        self.g_loss_metric = keras.metrics.Mean(name=\"g_loss\")\n",
    "\n",
    "    @property\n",
    "    def metrics(self):\n",
    "        return [self.d_loss_metric, self.g_loss_metric]\n",
    "\n",
    "    def train_step(self, real_images):\n",
    "        # Sample random points in the latent space\n",
    "        batch_size = tf.shape(real_images)[0]\n",
    "        random_latent_vectors = tf.random.normal(shape=(batch_size, self.latent_dim))\n",
    "\n",
    "        # Decode them to fake images\n",
    "        generated_images = self.generator(random_latent_vectors)\n",
    "\n",
    "        # Combine them with real images\n",
    "        combined_images = tf.concat([generated_images, real_images], axis=0)\n",
    "\n",
    "        # Assemble labels discriminating real from fake images\n",
    "        labels = tf.concat(\n",
    "            [tf.ones((batch_size, 1)), tf.zeros((batch_size, 1))], axis=0\n",
    "        )\n",
    "        # Add random noise to the labels - important trick!\n",
    "        labels += 0.05 * tf.random.uniform(tf.shape(labels))\n",
    "\n",
    "        # Train the discriminator\n",
    "        with tf.GradientTape() as tape:\n",
    "            predictions = self.discriminator(combined_images)\n",
    "            d_loss = self.loss_fn(labels, predictions)\n",
    "        grads = tape.gradient(d_loss, self.discriminator.trainable_weights)\n",
    "        self.d_optimizer.apply_gradients(\n",
    "            zip(grads, self.discriminator.trainable_weights)\n",
    "        )\n",
    "\n",
    "        # Sample random points in the latent space\n",
    "        random_latent_vectors = tf.random.normal(shape=(batch_size, self.latent_dim))\n",
    "\n",
    "        # Assemble labels that say \"all real images\"\n",
    "        misleading_labels = tf.zeros((batch_size, 1))\n",
    "\n",
    "        # Train the generator (note that we should *not* update the weights\n",
    "        # of the discriminator)!\n",
    "        with tf.GradientTape() as tape:\n",
    "            predictions = self.discriminator(self.generator(random_latent_vectors))\n",
    "            g_loss = self.loss_fn(misleading_labels, predictions)\n",
    "        grads = tape.gradient(g_loss, self.generator.trainable_weights)\n",
    "        self.g_optimizer.apply_gradients(zip(grads, self.generator.trainable_weights))\n",
    "\n",
    "        # Update metrics\n",
    "        self.d_loss_metric.update_state(d_loss)\n",
    "        self.g_loss_metric.update_state(g_loss)\n",
    "        return {\n",
    "            \"d_loss\": self.d_loss_metric.result(),\n",
    "            \"g_loss\": self.g_loss_metric.result(),\n",
    "        }"
   ]
  },
  {
   "cell_type": "code",
   "execution_count": 7,
   "metadata": {},
   "outputs": [],
   "source": [
    "class GANMonitor(keras.callbacks.Callback):\n",
    "    def __init__(self, num_img=3, latent_dim=100):\n",
    "        self.num_img = num_img\n",
    "        self.latent_dim = latent_dim\n",
    "\n",
    "    def on_epoch_end(self, epoch, logs=None):\n",
    "        random_latent_vectors = tf.random.normal(shape=(self.num_img, self.latent_dim))\n",
    "        generated_images = self.model.generator(random_latent_vectors)\n",
    "        generated_images *= 255\n",
    "        generated_images.numpy()\n",
    "        for i in range(self.num_img):\n",
    "            img = keras.preprocessing.image.array_to_img(generated_images[i])\n",
    "            plt.imshow(generated_images[i])\n",
    "            img.save(\"generated_img_%03d_%d.png\" % (epoch, i))"
   ]
  },
  {
   "cell_type": "code",
   "execution_count": 8,
   "metadata": {},
   "outputs": [],
   "source": [
    "epochs = 10\n",
    "\n",
    "gan = GAN(discriminator=discriminator, generator=generator, latent_dim=latent_dim)\n",
    "gan.compile(\n",
    "    d_optimizer=keras.optimizers.Adam(learning_rate=0.0001),\n",
    "    g_optimizer=keras.optimizers.Adam(learning_rate=0.0001),\n",
    "    loss_fn=keras.losses.BinaryCrossentropy(),\n",
    ")"
   ]
  },
  {
   "cell_type": "code",
   "execution_count": 9,
   "metadata": {},
   "outputs": [
    {
     "name": "stdout",
     "output_type": "stream",
     "text": [
      "Epoch 1/10\n",
      "1987/1987 [==============================] - 980s 493ms/step - d_loss: 0.4565 - g_loss: 1.6969\n",
      "Epoch 2/10\n",
      "1987/1987 [==============================] - 1275s 642ms/step - d_loss: 0.5142 - g_loss: 1.3800\n",
      "Epoch 3/10\n",
      "1987/1987 [==============================] - 1042s 525ms/step - d_loss: 0.5023 - g_loss: 1.3351\n",
      "Epoch 4/10\n",
      "1987/1987 [==============================] - 934s 470ms/step - d_loss: 0.4992 - g_loss: 1.5239\n",
      "Epoch 5/10\n",
      "1987/1987 [==============================] - 899s 452ms/step - d_loss: 0.5265 - g_loss: 1.2805\n",
      "Epoch 6/10\n",
      "1987/1987 [==============================] - 30665s 15s/step - d_loss: 0.5436 - g_loss: 1.2281\n",
      "Epoch 7/10\n",
      "1987/1987 [==============================] - 6822s 3s/step - d_loss: 0.6202 - g_loss: 1.0807\n",
      "Epoch 8/10\n",
      "1987/1987 [==============================] - 6395s 3s/step - d_loss: 0.6392 - g_loss: 1.0375\n",
      "Epoch 9/10\n",
      "1987/1987 [==============================] - 9187s 5s/step - d_loss: 0.6780 - g_loss: 1.0084\n",
      "Epoch 10/10\n",
      "1987/1987 [==============================] - 881s 443ms/step - d_loss: 0.6953 - g_loss: 0.9354\n"
     ]
    },
    {
     "data": {
      "text/plain": [
       "<tensorflow.python.keras.callbacks.History at 0x7fe72e2e2160>"
      ]
     },
     "execution_count": 9,
     "metadata": {},
     "output_type": "execute_result"
    }
   ],
   "source": [
    "gan.fit(\n",
    "    dataset, epochs=epochs,\n",
    ")"
   ]
  },
  {
   "cell_type": "markdown",
   "metadata": {},
   "source": [
    "## Results with DCGAN"
   ]
  },
  {
   "cell_type": "code",
   "execution_count": 15,
   "metadata": {},
   "outputs": [],
   "source": [
    "test = generator.predict(tf.random.normal(shape=(10, latent_dim)))"
   ]
  },
  {
   "cell_type": "code",
   "execution_count": 11,
   "metadata": {},
   "outputs": [
    {
     "data": {
      "text/plain": [
       "<matplotlib.image.AxesImage at 0x7fe6d06decd0>"
      ]
     },
     "execution_count": 11,
     "metadata": {},
     "output_type": "execute_result"
    },
    {
     "data": {
      "image/png": "[encoded data removed]",
      "text/plain": [
       "<Figure size 432x288 with 1 Axes>"
      ]
     },
     "metadata": {
      "needs_background": "light"
     },
     "output_type": "display_data"
    }
   ],
   "source": [
    "# generation 의 결과\n",
    "plt.imshow(test[0])"
   ]
  },
  {
   "cell_type": "code",
   "execution_count": 12,
   "metadata": {},
   "outputs": [
    {
     "data": {
      "text/plain": [
       "<matplotlib.image.AxesImage at 0x7fe6d1b138e0>"
      ]
     },
     "execution_count": 12,
     "metadata": {},
     "output_type": "execute_result"
    },
    {
     "data": {
      "image/png": "[encoded data removed]",
      "text/plain": [
       "<Figure size 432x288 with 1 Axes>"
      ]
     },
     "metadata": {
      "needs_background": "light"
     },
     "output_type": "display_data"
    }
   ],
   "source": [
    "plt.imshow(test[1])"
   ]
  },
  {
   "cell_type": "code",
   "execution_count": 18,
   "metadata": {},
   "outputs": [
    {
     "data": {
      "text/plain": [
       "<matplotlib.image.AxesImage at 0x7fe6d1da6040>"
      ]
     },
     "execution_count": 18,
     "metadata": {},
     "output_type": "execute_result"
    },
    {
     "data": {
      "image/png": "[encoded data removed]",
      "text/plain": [
       "<Figure size 432x288 with 1 Axes>"
      ]
     },
     "metadata": {
      "needs_background": "light"
     },
     "output_type": "display_data"
    }
   ],
   "source": [
    "plt.imshow(test[2])"
   ]
  },
  {
   "cell_type": "code",
   "execution_count": 19,
   "metadata": {},
   "outputs": [
    {
     "data": {
      "text/plain": [
       "<matplotlib.image.AxesImage at 0x7fe72db57fa0>"
      ]
     },
     "execution_count": 19,
     "metadata": {},
     "output_type": "execute_result"
    },
    {
     "data": {
      "image/png": "[encoded data removed]",
      "text/plain": [
       "<Figure size 432x288 with 1 Axes>"
      ]
     },
     "metadata": {
      "needs_background": "light"
     },
     "output_type": "display_data"
    }
   ],
   "source": [
    "plt.imshow(test[3])"
   ]
  },
  {
   "cell_type": "code",
   "execution_count": null,
   "metadata": {},
   "outputs": [],
   "source": []
  },
  {
   "cell_type": "markdown",
   "metadata": {},
   "source": [
    "# VAE\n",
    "- MNIST Dataset 을 VAE 에 사용해 이미지를 생성해보자"
   ]
  },
  {
   "cell_type": "code",
   "execution_count": 26,
   "metadata": {},
   "outputs": [],
   "source": [
    "import pandas as pd\n",
    "import numpy as np\n",
    "import keras\n",
    "from keras.layers import Input, Conv2D, Flatten, Dense, Conv2DTranspose, Reshape, Activation, LeakyReLU, Dropout, BatchNormalization, MaxPooling2D, Lambda\n",
    "from keras.models import Model\n",
    "from keras import backend as K\n",
    "from keras.optimizers import Adam\n",
    "from keras.utils import to_categorical\n",
    "from sklearn.metrics import mean_squared_error as mse\n",
    "from tensorflow.python.framework.ops import disable_eager_execution\n",
    "disable_eager_execution()\n",
    "\n",
    "import matplotlib.pyplot as plt\n",
    "%matplotlib inline\n",
    "import seaborn as sns"
   ]
  },
  {
   "cell_type": "code",
   "execution_count": 27,
   "metadata": {},
   "outputs": [],
   "source": [
    "(Xtrain, Ytrain), (Xtest, Ytest) = keras.datasets.mnist.load_data()\n",
    "Xtrain = Xtrain/255\n",
    "Xtest = Xtest/255\n",
    "\n",
    "Xtrain = Xtrain.reshape(len(Xtrain), 28, 28, 1)\n",
    "Xtest = Xtest.reshape(len(Xtest), 28, 28, 1)\n",
    "\n",
    "Ytrain = to_categorical(Ytrain)\n",
    "Ytest = to_categorical(Ytest)"
   ]
  },
  {
   "cell_type": "code",
   "execution_count": 28,
   "metadata": {},
   "outputs": [
    {
     "name": "stdout",
     "output_type": "stream",
     "text": [
      "Model: \"model_3\"\n",
      "__________________________________________________________________________________________________\n",
      "Layer (type)                    Output Shape         Param #     Connected to                     \n",
      "==================================================================================================\n",
      "input_1 (InputLayer)            [(None, 28, 28, 1)]  0                                            \n",
      "__________________________________________________________________________________________________\n",
      "conv2d_7 (Conv2D)               (None, 28, 28, 32)   320         input_1[0][0]                    \n",
      "__________________________________________________________________________________________________\n",
      "leaky_re_lu_12 (LeakyReLU)      (None, 28, 28, 32)   0           conv2d_7[0][0]                   \n",
      "__________________________________________________________________________________________________\n",
      "conv2d_8 (Conv2D)               (None, 14, 14, 64)   18496       leaky_re_lu_12[0][0]             \n",
      "__________________________________________________________________________________________________\n",
      "leaky_re_lu_13 (LeakyReLU)      (None, 14, 14, 64)   0           conv2d_8[0][0]                   \n",
      "__________________________________________________________________________________________________\n",
      "conv2d_9 (Conv2D)               (None, 7, 7, 64)     36928       leaky_re_lu_13[0][0]             \n",
      "__________________________________________________________________________________________________\n",
      "leaky_re_lu_14 (LeakyReLU)      (None, 7, 7, 64)     0           conv2d_9[0][0]                   \n",
      "__________________________________________________________________________________________________\n",
      "conv2d_10 (Conv2D)              (None, 7, 7, 64)     36928       leaky_re_lu_14[0][0]             \n",
      "__________________________________________________________________________________________________\n",
      "leaky_re_lu_15 (LeakyReLU)      (None, 7, 7, 64)     0           conv2d_10[0][0]                  \n",
      "__________________________________________________________________________________________________\n",
      "flatten_2 (Flatten)             (None, 3136)         0           leaky_re_lu_15[0][0]             \n",
      "__________________________________________________________________________________________________\n",
      "dense_5 (Dense)                 (None, 2)            6274        flatten_2[0][0]                  \n",
      "__________________________________________________________________________________________________\n",
      "dense_6 (Dense)                 (None, 2)            6274        flatten_2[0][0]                  \n",
      "__________________________________________________________________________________________________\n",
      "lambda_1 (Lambda)               (None, 2)            0           dense_5[0][0]                    \n",
      "                                                                 dense_6[0][0]                    \n",
      "==================================================================================================\n",
      "Total params: 105,220\n",
      "Trainable params: 105,220\n",
      "Non-trainable params: 0\n",
      "__________________________________________________________________________________________________\n",
      "None\n"
     ]
    }
   ],
   "source": [
    "#Encoder\n",
    "encoder_input=Input(shape=(28,28,1))\n",
    "\n",
    "x=Conv2D(filters=32, kernel_size=3, strides=1, padding='same')(encoder_input)\n",
    "x=LeakyReLU()(x)\n",
    "\n",
    "x=Conv2D(filters=64, kernel_size=3, strides=2, padding='same')(x)\n",
    "x=LeakyReLU()(x)\n",
    "\n",
    "x=Conv2D(filters=64, kernel_size=3, strides=2, padding='same')(x)\n",
    "x=LeakyReLU()(x)\n",
    "\n",
    "x=Conv2D(filters=64, kernel_size=3, strides=1, padding='same')(x)\n",
    "x=LeakyReLU()(x)\n",
    "\n",
    "shape_before_flatten=K.int_shape(x)[1:]\n",
    "x=Flatten()(x)\n",
    "\n",
    "#############################################################################\n",
    "mu=Dense(units=2)(x)\n",
    "log_var=Dense(units=2)(x)\n",
    "\n",
    "def sampling(args):\n",
    "    mu, log_var = args\n",
    "    epsilon = K.random_normal(shape=K.shape(mu), mean=0, stddev=1)\n",
    "    return mu + K.exp(log_var / 2) * epsilon\n",
    "\n",
    "encoder_output=Lambda(sampling)([mu, log_var])\n",
    "model_encoder = Model(encoder_input, encoder_output)\n",
    "############################################################################\n",
    "print(model_encoder.summary())"
   ]
  },
  {
   "cell_type": "code",
   "execution_count": 29,
   "metadata": {},
   "outputs": [
    {
     "name": "stdout",
     "output_type": "stream",
     "text": [
      "Model: \"model_4\"\n",
      "_________________________________________________________________\n",
      "Layer (type)                 Output Shape              Param #   \n",
      "=================================================================\n",
      "input_2 (InputLayer)         [(None, 2)]               0         \n",
      "_________________________________________________________________\n",
      "dense_7 (Dense)              (None, 3136)              9408      \n",
      "_________________________________________________________________\n",
      "reshape_2 (Reshape)          (None, 7, 7, 64)          0         \n",
      "_________________________________________________________________\n",
      "conv2d_transpose_7 (Conv2DTr (None, 7, 7, 64)          36928     \n",
      "_________________________________________________________________\n",
      "leaky_re_lu_16 (LeakyReLU)   (None, 7, 7, 64)          0         \n",
      "_________________________________________________________________\n",
      "conv2d_transpose_8 (Conv2DTr (None, 14, 14, 64)        36928     \n",
      "_________________________________________________________________\n",
      "leaky_re_lu_17 (LeakyReLU)   (None, 14, 14, 64)        0         \n",
      "_________________________________________________________________\n",
      "conv2d_transpose_9 (Conv2DTr (None, 28, 28, 32)        18464     \n",
      "_________________________________________________________________\n",
      "leaky_re_lu_18 (LeakyReLU)   (None, 28, 28, 32)        0         \n",
      "_________________________________________________________________\n",
      "conv2d_transpose_10 (Conv2DT (None, 28, 28, 1)         289       \n",
      "_________________________________________________________________\n",
      "activation_1 (Activation)    (None, 28, 28, 1)         0         \n",
      "=================================================================\n",
      "Total params: 102,017\n",
      "Trainable params: 102,017\n",
      "Non-trainable params: 0\n",
      "_________________________________________________________________\n",
      "None\n"
     ]
    }
   ],
   "source": [
    "#Decoder\n",
    "decoder_input=Input(shape=(2,))\n",
    "x=Dense(units=np.prod(shape_before_flatten))(decoder_input)\n",
    "x=Reshape(shape_before_flatten)(x)\n",
    "\n",
    "x=Conv2DTranspose(filters=64, kernel_size=3, strides=1, padding='same')(x)\n",
    "x=LeakyReLU()(x)\n",
    "\n",
    "x=Conv2DTranspose(filters=64, kernel_size=3, strides=2, padding='same')(x)\n",
    "x=LeakyReLU()(x)\n",
    "\n",
    "x=Conv2DTranspose(filters=32, kernel_size=3, strides=2, padding='same')(x)\n",
    "x=LeakyReLU()(x)\n",
    "\n",
    "x=Conv2DTranspose(filters=1, kernel_size=3, strides=1, padding='same')(x)\n",
    "x=Activation('sigmoid')(x)\n",
    "\n",
    "decoder_output=x\n",
    "model_decoder=Model(decoder_input, decoder_output)\n",
    "print(model_decoder.summary())\n",
    "\n",
    "\n",
    "#Connect Two Models\n",
    "model_input = encoder_input\n",
    "model_output = model_decoder(encoder_output)\n",
    "\n",
    "AutoEncoder=Model(model_input, model_output)"
   ]
  },
  {
   "cell_type": "code",
   "execution_count": 30,
   "metadata": {},
   "outputs": [],
   "source": [
    "optimizer=Adam(lr=0.0005)\n",
    "r_loss_factor=1000   # This is a Hyperparameter\n",
    "\n",
    "def vae_r_loss(y_true, y_pred):    ## MSE\n",
    "    r_loss = K.mean(K.square(y_true-y_pred), axis=[1,2,3])\n",
    "    return r_loss_factor * r_loss\n",
    "\n",
    "def vae_kl_loss(y_true, y_pred):   ## KL-Divergence\n",
    "    kl_loss= -0.5 * K.sum(1+log_var - K.square(mu) - K.exp(log_var), axis=1)\n",
    "    return kl_loss\n",
    "\n",
    "def vae_loss(y_true, y_pred): \n",
    "    r_loss=vae_r_loss(y_true, y_pred) #Loss of Decoder\n",
    "    kl_loss = vae_kl_loss(y_true, y_pred) #Loss of Encoder\n",
    "    return r_loss + kl_loss #Sum of these two\n",
    "\n",
    "\n",
    "AutoEncoder.compile(optimizer=optimizer, loss= vae_loss, metrics=[vae_r_loss, vae_kl_loss])"
   ]
  },
  {
   "cell_type": "code",
   "execution_count": 32,
   "metadata": {},
   "outputs": [
    {
     "name": "stdout",
     "output_type": "stream",
     "text": [
      "Trial 0...\n",
      "Train on 60000 samples\n",
      "Epoch 1/10\n",
      "60000/60000 [==============================] - 170s 3ms/sample - loss: 55.7859 - vae_r_loss: 52.5067 - vae_kl_loss: 3.2792\n",
      "Epoch 2/10\n",
      "60000/60000 [==============================] - 104s 2ms/sample - loss: 51.6922 - vae_r_loss: 47.7670 - vae_kl_loss: 3.9253\n",
      "Epoch 3/10\n",
      "60000/60000 [==============================] - 90s 2ms/sample - loss: 50.2263 - vae_r_loss: 45.9770 - vae_kl_loss: 4.2493\n",
      "Epoch 4/10\n",
      "60000/60000 [==============================] - 80s 1ms/sample - loss: 49.2583 - vae_r_loss: 44.8316 - vae_kl_loss: 4.4267\n",
      "Epoch 5/10\n",
      "60000/60000 [==============================] - 85s 1ms/sample - loss: 48.5917 - vae_r_loss: 44.0294 - vae_kl_loss: 4.5623\n",
      "Epoch 6/10\n",
      "60000/60000 [==============================] - 80s 1ms/sample - loss: 48.1255 - vae_r_loss: 43.4591 - vae_kl_loss: 4.6664\n",
      "Epoch 7/10\n",
      "60000/60000 [==============================] - 80s 1ms/sample - loss: 47.6686 - vae_r_loss: 42.9187 - vae_kl_loss: 4.7499\n",
      "Epoch 8/10\n",
      "60000/60000 [==============================] - 81s 1ms/sample - loss: 47.4233 - vae_r_loss: 42.6160 - vae_kl_loss: 4.8074\n",
      "Epoch 9/10\n",
      "60000/60000 [==============================] - 88s 1ms/sample - loss: 47.1625 - vae_r_loss: 42.3275 - vae_kl_loss: 4.8349\n",
      "Epoch 10/10\n",
      "60000/60000 [==============================] - 85s 1ms/sample - loss: 46.9428 - vae_r_loss: 42.0570 - vae_kl_loss: 4.8858\n"
     ]
    },
    {
     "name": "stderr",
     "output_type": "stream",
     "text": [
      "/Users/lifeofpy/opt/anaconda3/envs/lifeofpy/lib/python3.8/site-packages/tensorflow/python/keras/engine/training.py:2325: UserWarning: `Model.state_updates` will be removed in a future version. This property should not be used in TensorFlow 2.0, as `updates` are applied automatically.\n",
      "  warnings.warn('`Model.state_updates` will be removed in a future version. '\n"
     ]
    },
    {
     "data": {
      "image/png": "[encoded data removed]",
      "text/plain": [
       "<Figure size 432x288 with 2 Axes>"
      ]
     },
     "metadata": {
      "needs_background": "light"
     },
     "output_type": "display_data"
    },
    {
     "name": "stdout",
     "output_type": "stream",
     "text": [
      "Trial 1...\n",
      "Train on 60000 samples\n",
      "Epoch 1/10\n",
      "60000/60000 [==============================] - 85s 1ms/sample - loss: 46.7750 - vae_r_loss: 41.8588 - vae_kl_loss: 4.9163\n",
      "Epoch 2/10\n",
      "60000/60000 [==============================] - 88s 1ms/sample - loss: 46.6125 - vae_r_loss: 41.6544 - vae_kl_loss: 4.9581\n",
      "Epoch 3/10\n",
      "60000/60000 [==============================] - 105s 2ms/sample - loss: 46.4660 - vae_r_loss: 41.4844 - vae_kl_loss: 4.9815\n",
      "Epoch 4/10\n",
      "60000/60000 [==============================] - 100s 2ms/sample - loss: 46.3336 - vae_r_loss: 41.3357 - vae_kl_loss: 4.9978\n",
      "Epoch 5/10\n",
      "60000/60000 [==============================] - 100s 2ms/sample - loss: 46.2273 - vae_r_loss: 41.1933 - vae_kl_loss: 5.0341\n",
      "Epoch 6/10\n",
      "60000/60000 [==============================] - 100s 2ms/sample - loss: 46.1207 - vae_r_loss: 41.0737 - vae_kl_loss: 5.0470\n",
      "Epoch 7/10\n",
      "60000/60000 [==============================] - 91s 2ms/sample - loss: 46.0150 - vae_r_loss: 40.9588 - vae_kl_loss: 5.0562\n",
      "Epoch 8/10\n",
      "60000/60000 [==============================] - 86s 1ms/sample - loss: 45.9093 - vae_r_loss: 40.8375 - vae_kl_loss: 5.0718\n",
      "Epoch 9/10\n",
      "60000/60000 [==============================] - 92s 2ms/sample - loss: 45.8228 - vae_r_loss: 40.7355 - vae_kl_loss: 5.0873\n",
      "Epoch 10/10\n",
      "60000/60000 [==============================] - 87s 1ms/sample - loss: 45.7362 - vae_r_loss: 40.6206 - vae_kl_loss: 5.1156\n"
     ]
    },
    {
     "data": {
      "image/png": "[encoded data removed]",
      "text/plain": [
       "<Figure size 432x288 with 2 Axes>"
      ]
     },
     "metadata": {
      "needs_background": "light"
     },
     "output_type": "display_data"
    },
    {
     "name": "stdout",
     "output_type": "stream",
     "text": [
      "Trial 2...\n",
      "Train on 60000 samples\n",
      "Epoch 1/10\n",
      "60000/60000 [==============================] - 88s 1ms/sample - loss: 45.6742 - vae_r_loss: 40.5480 - vae_kl_loss: 5.1261\n",
      "Epoch 2/10\n",
      "60000/60000 [==============================] - 87s 1ms/sample - loss: 45.6246 - vae_r_loss: 40.4859 - vae_kl_loss: 5.1387\n",
      "Epoch 3/10\n",
      "60000/60000 [==============================] - 98s 2ms/sample - loss: 45.5660 - vae_r_loss: 40.4055 - vae_kl_loss: 5.1604\n",
      "Epoch 4/10\n",
      "60000/60000 [==============================] - 85s 1ms/sample - loss: 45.4974 - vae_r_loss: 40.3322 - vae_kl_loss: 5.1651\n",
      "Epoch 5/10\n",
      "60000/60000 [==============================] - 90s 1ms/sample - loss: 45.4333 - vae_r_loss: 40.2485 - vae_kl_loss: 5.1848\n",
      "Epoch 6/10\n",
      "60000/60000 [==============================] - 110s 2ms/sample - loss: 45.3534 - vae_r_loss: 40.1703 - vae_kl_loss: 5.1831\n",
      "Epoch 7/10\n",
      "60000/60000 [==============================] - 94s 2ms/sample - loss: 45.2986 - vae_r_loss: 40.1014 - vae_kl_loss: 5.1972\n",
      "Epoch 8/10\n",
      "60000/60000 [==============================] - 96s 2ms/sample - loss: 45.2676 - vae_r_loss: 40.0666 - vae_kl_loss: 5.2010\n",
      "Epoch 9/10\n",
      "60000/60000 [==============================] - 91s 2ms/sample - loss: 45.2043 - vae_r_loss: 39.9974 - vae_kl_loss: 5.2069\n",
      "Epoch 10/10\n",
      "60000/60000 [==============================] - 85s 1ms/sample - loss: 45.1381 - vae_r_loss: 39.9234 - vae_kl_loss: 5.2147\n"
     ]
    },
    {
     "data": {
      "image/png": "[encoded data removed]",
      "text/plain": [
       "<Figure size 432x288 with 2 Axes>"
      ]
     },
     "metadata": {
      "needs_background": "light"
     },
     "output_type": "display_data"
    },
    {
     "name": "stdout",
     "output_type": "stream",
     "text": [
      "Trial 3...\n",
      "Train on 60000 samples\n",
      "Epoch 1/10\n",
      "60000/60000 [==============================] - 82s 1ms/sample - loss: 45.1079 - vae_r_loss: 39.8775 - vae_kl_loss: 5.2304\n",
      "Epoch 2/10\n",
      "60000/60000 [==============================] - 83s 1ms/sample - loss: 45.0762 - vae_r_loss: 39.8431 - vae_kl_loss: 5.2330\n",
      "Epoch 3/10\n",
      "60000/60000 [==============================] - 86s 1ms/sample - loss: 45.0486 - vae_r_loss: 39.8067 - vae_kl_loss: 5.2420\n",
      "Epoch 4/10\n",
      "60000/60000 [==============================] - 86s 1ms/sample - loss: 44.9993 - vae_r_loss: 39.7495 - vae_kl_loss: 5.2498\n",
      "Epoch 5/10\n",
      "60000/60000 [==============================] - 85s 1ms/sample - loss: 44.9483 - vae_r_loss: 39.6835 - vae_kl_loss: 5.2648\n",
      "Epoch 6/10\n",
      "60000/60000 [==============================] - 84s 1ms/sample - loss: 44.9190 - vae_r_loss: 39.6565 - vae_kl_loss: 5.2626\n",
      "Epoch 7/10\n",
      "60000/60000 [==============================] - 85s 1ms/sample - loss: 44.8782 - vae_r_loss: 39.6171 - vae_kl_loss: 5.2611\n",
      "Epoch 8/10\n",
      "60000/60000 [==============================] - 87s 1ms/sample - loss: 44.8154 - vae_r_loss: 39.5465 - vae_kl_loss: 5.2689\n",
      "Epoch 9/10\n",
      "60000/60000 [==============================] - 81s 1ms/sample - loss: 44.8028 - vae_r_loss: 39.5202 - vae_kl_loss: 5.2826\n",
      "Epoch 10/10\n",
      "60000/60000 [==============================] - 81s 1ms/sample - loss: 44.7799 - vae_r_loss: 39.4847 - vae_kl_loss: 5.2951\n"
     ]
    },
    {
     "data": {
      "image/png": "[encoded data removed]",
      "text/plain": [
       "<Figure size 432x288 with 2 Axes>"
      ]
     },
     "metadata": {
      "needs_background": "light"
     },
     "output_type": "display_data"
    },
    {
     "name": "stdout",
     "output_type": "stream",
     "text": [
      "Trial 4...\n",
      "Train on 60000 samples\n",
      "Epoch 1/10\n",
      "60000/60000 [==============================] - 79s 1ms/sample - loss: 44.7510 - vae_r_loss: 39.4582 - vae_kl_loss: 5.2928\n",
      "Epoch 2/10\n",
      "60000/60000 [==============================] - 84s 1ms/sample - loss: 44.7082 - vae_r_loss: 39.4103 - vae_kl_loss: 5.2979\n",
      "Epoch 3/10\n",
      "60000/60000 [==============================] - 98s 2ms/sample - loss: 44.7002 - vae_r_loss: 39.3922 - vae_kl_loss: 5.3079\n",
      "Epoch 4/10\n",
      "60000/60000 [==============================] - 97s 2ms/sample - loss: 44.6656 - vae_r_loss: 39.3444 - vae_kl_loss: 5.3213\n",
      "Epoch 5/10\n",
      "60000/60000 [==============================] - 90s 2ms/sample - loss: 44.6541 - vae_r_loss: 39.3336 - vae_kl_loss: 5.3204\n",
      "Epoch 6/10\n",
      "60000/60000 [==============================] - 89s 1ms/sample - loss: 44.5840 - vae_r_loss: 39.2648 - vae_kl_loss: 5.3192\n",
      "Epoch 7/10\n",
      "60000/60000 [==============================] - 93s 2ms/sample - loss: 44.5573 - vae_r_loss: 39.2348 - vae_kl_loss: 5.3225\n",
      "Epoch 8/10\n",
      "60000/60000 [==============================] - 90s 1ms/sample - loss: 44.5114 - vae_r_loss: 39.1749 - vae_kl_loss: 5.3365\n",
      "Epoch 9/10\n",
      "60000/60000 [==============================] - 89s 1ms/sample - loss: 44.5207 - vae_r_loss: 39.1880 - vae_kl_loss: 5.3326\n",
      "Epoch 10/10\n",
      "60000/60000 [==============================] - 92s 2ms/sample - loss: 44.4866 - vae_r_loss: 39.1548 - vae_kl_loss: 5.3318\n"
     ]
    },
    {
     "data": {
      "image/png": "[encoded data removed]",
      "text/plain": [
       "<Figure size 432x288 with 2 Axes>"
      ]
     },
     "metadata": {
      "needs_background": "light"
     },
     "output_type": "display_data"
    },
    {
     "name": "stdout",
     "output_type": "stream",
     "text": [
      "Trial 5...\n",
      "Train on 60000 samples\n",
      "Epoch 1/10\n",
      "60000/60000 [==============================] - 95s 2ms/sample - loss: 44.4548 - vae_r_loss: 39.1079 - vae_kl_loss: 5.3470\n",
      "Epoch 2/10\n",
      "60000/60000 [==============================] - 95s 2ms/sample - loss: 44.4571 - vae_r_loss: 39.1062 - vae_kl_loss: 5.3509\n",
      "Epoch 3/10\n",
      "60000/60000 [==============================] - 99s 2ms/sample - loss: 44.4087 - vae_r_loss: 39.0577 - vae_kl_loss: 5.3509\n",
      "Epoch 4/10\n",
      "60000/60000 [==============================] - 95s 2ms/sample - loss: 44.3858 - vae_r_loss: 39.0269 - vae_kl_loss: 5.3589\n",
      "Epoch 5/10\n",
      "60000/60000 [==============================] - 95s 2ms/sample - loss: 44.3585 - vae_r_loss: 39.0009 - vae_kl_loss: 5.3576\n",
      "Epoch 6/10\n",
      "60000/60000 [==============================] - 98s 2ms/sample - loss: 44.3589 - vae_r_loss: 38.9803 - vae_kl_loss: 5.3786\n",
      "Epoch 7/10\n",
      "60000/60000 [==============================] - 96s 2ms/sample - loss: 44.3166 - vae_r_loss: 38.9387 - vae_kl_loss: 5.3779\n",
      "Epoch 8/10\n",
      "60000/60000 [==============================] - 95s 2ms/sample - loss: 44.2895 - vae_r_loss: 38.9103 - vae_kl_loss: 5.3792\n",
      "Epoch 9/10\n",
      "60000/60000 [==============================] - 95s 2ms/sample - loss: 44.2493 - vae_r_loss: 38.8732 - vae_kl_loss: 5.3761\n",
      "Epoch 10/10\n",
      "60000/60000 [==============================] - 99s 2ms/sample - loss: 44.2507 - vae_r_loss: 38.8701 - vae_kl_loss: 5.3806\n"
     ]
    },
    {
     "data": {
      "image/png": "[encoded data removed]",
      "text/plain": [
       "<Figure size 432x288 with 2 Axes>"
      ]
     },
     "metadata": {
      "needs_background": "light"
     },
     "output_type": "display_data"
    },
    {
     "name": "stdout",
     "output_type": "stream",
     "text": [
      "Trial 6...\n",
      "Train on 60000 samples\n",
      "Epoch 1/10\n",
      "60000/60000 [==============================] - 97s 2ms/sample - loss: 44.2632 - vae_r_loss: 38.8733 - vae_kl_loss: 5.3899\n",
      "Epoch 2/10\n",
      "60000/60000 [==============================] - 99s 2ms/sample - loss: 44.2115 - vae_r_loss: 38.8268 - vae_kl_loss: 5.3847\n",
      "Epoch 3/10\n",
      "60000/60000 [==============================] - 99s 2ms/sample - loss: 44.2254 - vae_r_loss: 38.8366 - vae_kl_loss: 5.3888\n",
      "Epoch 4/10\n",
      "60000/60000 [==============================] - 100s 2ms/sample - loss: 44.2029 - vae_r_loss: 38.8067 - vae_kl_loss: 5.3962\n",
      "Epoch 5/10\n",
      "60000/60000 [==============================] - 99s 2ms/sample - loss: 44.1816 - vae_r_loss: 38.7728 - vae_kl_loss: 5.4088\n",
      "Epoch 6/10\n",
      "60000/60000 [==============================] - 98s 2ms/sample - loss: 44.1563 - vae_r_loss: 38.7489 - vae_kl_loss: 5.4074\n",
      "Epoch 7/10\n",
      "60000/60000 [==============================] - 100s 2ms/sample - loss: 44.1111 - vae_r_loss: 38.7072 - vae_kl_loss: 5.4039\n",
      "Epoch 8/10\n",
      "60000/60000 [==============================] - 97s 2ms/sample - loss: 44.1400 - vae_r_loss: 38.7272 - vae_kl_loss: 5.4129\n",
      "Epoch 9/10\n",
      "60000/60000 [==============================] - 99s 2ms/sample - loss: 44.1081 - vae_r_loss: 38.7070 - vae_kl_loss: 5.4011\n",
      "Epoch 10/10\n",
      "60000/60000 [==============================] - 105s 2ms/sample - loss: 44.0792 - vae_r_loss: 38.6781 - vae_kl_loss: 5.4011\n"
     ]
    },
    {
     "data": {
      "image/png": "[encoded data removed]",
      "text/plain": [
       "<Figure size 432x288 with 2 Axes>"
      ]
     },
     "metadata": {
      "needs_background": "light"
     },
     "output_type": "display_data"
    },
    {
     "name": "stdout",
     "output_type": "stream",
     "text": [
      "Trial 7...\n",
      "Train on 60000 samples\n",
      "Epoch 1/10\n",
      "60000/60000 [==============================] - 104s 2ms/sample - loss: 44.1067 - vae_r_loss: 38.6933 - vae_kl_loss: 5.4134\n",
      "Epoch 2/10\n",
      "60000/60000 [==============================] - 87s 1ms/sample - loss: 44.0521 - vae_r_loss: 38.6412 - vae_kl_loss: 5.4110\n",
      "Epoch 3/10\n",
      "60000/60000 [==============================] - 76s 1ms/sample - loss: 44.0187 - vae_r_loss: 38.5887 - vae_kl_loss: 5.4300\n",
      "Epoch 4/10\n",
      "60000/60000 [==============================] - 75s 1ms/sample - loss: 44.0310 - vae_r_loss: 38.6011 - vae_kl_loss: 5.4299\n",
      "Epoch 5/10\n",
      "60000/60000 [==============================] - 76s 1ms/sample - loss: 43.9923 - vae_r_loss: 38.5620 - vae_kl_loss: 5.4303\n",
      "Epoch 6/10\n",
      "60000/60000 [==============================] - 76s 1ms/sample - loss: 44.0111 - vae_r_loss: 38.5885 - vae_kl_loss: 5.4226\n",
      "Epoch 7/10\n",
      "60000/60000 [==============================] - 75s 1ms/sample - loss: 43.9809 - vae_r_loss: 38.5537 - vae_kl_loss: 5.4271\n",
      "Epoch 8/10\n",
      "60000/60000 [==============================] - 75s 1ms/sample - loss: 43.9725 - vae_r_loss: 38.5373 - vae_kl_loss: 5.4352\n",
      "Epoch 9/10\n",
      "60000/60000 [==============================] - 78s 1ms/sample - loss: 43.9664 - vae_r_loss: 38.5259 - vae_kl_loss: 5.4405\n",
      "Epoch 10/10\n",
      "60000/60000 [==============================] - 82s 1ms/sample - loss: 43.9226 - vae_r_loss: 38.4804 - vae_kl_loss: 5.4423\n"
     ]
    },
    {
     "data": {
      "image/png": "[encoded data removed]",
      "text/plain": [
       "<Figure size 432x288 with 2 Axes>"
      ]
     },
     "metadata": {
      "needs_background": "light"
     },
     "output_type": "display_data"
    },
    {
     "name": "stdout",
     "output_type": "stream",
     "text": [
      "Trial 8...\n",
      "Train on 60000 samples\n",
      "Epoch 1/10\n",
      "60000/60000 [==============================] - 81s 1ms/sample - loss: 43.9165 - vae_r_loss: 38.4631 - vae_kl_loss: 5.4534\n",
      "Epoch 2/10\n",
      "60000/60000 [==============================] - 78s 1ms/sample - loss: 43.9279 - vae_r_loss: 38.4820 - vae_kl_loss: 5.4460\n",
      "Epoch 3/10\n",
      "60000/60000 [==============================] - 77s 1ms/sample - loss: 43.8738 - vae_r_loss: 38.4231 - vae_kl_loss: 5.4507\n",
      "Epoch 4/10\n",
      "60000/60000 [==============================] - 77s 1ms/sample - loss: 43.8912 - vae_r_loss: 38.4570 - vae_kl_loss: 5.4342\n",
      "Epoch 5/10\n",
      "60000/60000 [==============================] - 77s 1ms/sample - loss: 43.8458 - vae_r_loss: 38.3985 - vae_kl_loss: 5.4473\n",
      "Epoch 6/10\n",
      "60000/60000 [==============================] - 77s 1ms/sample - loss: 43.8494 - vae_r_loss: 38.3831 - vae_kl_loss: 5.4663\n",
      "Epoch 7/10\n",
      "60000/60000 [==============================] - 77s 1ms/sample - loss: 43.8215 - vae_r_loss: 38.3610 - vae_kl_loss: 5.4604\n",
      "Epoch 8/10\n",
      "60000/60000 [==============================] - 77s 1ms/sample - loss: 43.8283 - vae_r_loss: 38.3636 - vae_kl_loss: 5.4648\n",
      "Epoch 9/10\n",
      "60000/60000 [==============================] - 76s 1ms/sample - loss: 43.8017 - vae_r_loss: 38.3429 - vae_kl_loss: 5.4587\n",
      "Epoch 10/10\n",
      "60000/60000 [==============================] - 1914s 32ms/sample - loss: 43.8040 - vae_r_loss: 38.3389 - vae_kl_loss: 5.4651\n"
     ]
    },
    {
     "data": {
      "image/png": "[encoded data removed]",
      "text/plain": [
       "<Figure size 432x288 with 2 Axes>"
      ]
     },
     "metadata": {
      "needs_background": "light"
     },
     "output_type": "display_data"
    },
    {
     "name": "stdout",
     "output_type": "stream",
     "text": [
      "Trial 9...\n",
      "Train on 60000 samples\n",
      "Epoch 1/10\n",
      "60000/60000 [==============================] - 1081s 18ms/sample - loss: 43.7984 - vae_r_loss: 38.3329 - vae_kl_loss: 5.4655\n",
      "Epoch 2/10\n",
      "60000/60000 [==============================] - 7098s 118ms/sample - loss: 43.8130 - vae_r_loss: 38.3377 - vae_kl_loss: 5.4753\n",
      "Epoch 3/10\n",
      "60000/60000 [==============================] - 73s 1ms/sample - loss: 43.8020 - vae_r_loss: 38.3254 - vae_kl_loss: 5.4766\n",
      "Epoch 4/10\n",
      "60000/60000 [==============================] - 98s 2ms/sample - loss: 43.7494 - vae_r_loss: 38.2808 - vae_kl_loss: 5.4685\n",
      "Epoch 5/10\n",
      "60000/60000 [==============================] - 80s 1ms/sample - loss: 43.7236 - vae_r_loss: 38.2472 - vae_kl_loss: 5.4764\n",
      "Epoch 6/10\n",
      "60000/60000 [==============================] - 73s 1ms/sample - loss: 43.7245 - vae_r_loss: 38.2575 - vae_kl_loss: 5.4670\n",
      "Epoch 7/10\n",
      "60000/60000 [==============================] - 73s 1ms/sample - loss: 43.7375 - vae_r_loss: 38.2598 - vae_kl_loss: 5.4777\n",
      "Epoch 8/10\n",
      "60000/60000 [==============================] - 72s 1ms/sample - loss: 43.6811 - vae_r_loss: 38.2096 - vae_kl_loss: 5.4715\n",
      "Epoch 9/10\n",
      "60000/60000 [==============================] - 72s 1ms/sample - loss: 43.6825 - vae_r_loss: 38.2151 - vae_kl_loss: 5.4674\n",
      "Epoch 10/10\n",
      "60000/60000 [==============================] - 73s 1ms/sample - loss: 43.7283 - vae_r_loss: 38.2417 - vae_kl_loss: 5.4866\n"
     ]
    },
    {
     "data": {
      "image/png": "[encoded data removed]",
      "text/plain": [
       "<Figure size 432x288 with 2 Axes>"
      ]
     },
     "metadata": {
      "needs_background": "light"
     },
     "output_type": "display_data"
    }
   ],
   "source": [
    "for i in range(10):\n",
    "    print(f\"Trial {i}...\")\n",
    "    AutoEncoder.fit(Xtrain, Xtrain, batch_size=32, shuffle=True, epochs=10)\n",
    "    result=AutoEncoder.predict(Xtrain)\n",
    "    \n",
    "    random=np.random.randint(0, len(Xtrain))\n",
    "    \n",
    "    fig = plt.figure()\n",
    "    rows = 1\n",
    "    cols = 2\n",
    "    img1 = Xtrain[random].reshape(28,28)\n",
    "    img2 = result[random].reshape(28,28)\n",
    "    ax1 = fig.add_subplot(rows, cols, 1)\n",
    "    ax1.imshow(img1)\n",
    "    ax1.set_title('Correct')\n",
    "    ax1.axis(\"off\")\n",
    "    ax2 = fig.add_subplot(rows, cols, 2)\n",
    "    ax2.imshow(img2)\n",
    "    ax2.set_title('Generated')\n",
    "    ax2.axis(\"off\")\n",
    "    plt.show()"
   ]
  },
  {
   "cell_type": "code",
   "execution_count": null,
   "metadata": {},
   "outputs": [],
   "source": []
  },
  {
   "cell_type": "code",
   "execution_count": null,
   "metadata": {},
   "outputs": [],
   "source": []
  }
 ],
 "metadata": {
  "kernelspec": {
   "display_name": "Python 3",
   "language": "python",
   "name": "python3"
  },
  "language_info": {
   "codemirror_mode": {
    "name": "ipython",
    "version": 3
   },
   "file_extension": ".py",
   "mimetype": "text/x-python",
   "name": "python",
   "nbconvert_exporter": "python",
   "pygments_lexer": "ipython3",
   "version": "3.8.5"
  }
 },
 "nbformat": 4,
 "nbformat_minor": 4
}
