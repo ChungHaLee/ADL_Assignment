{
 "cells": [
  {
   "cell_type": "markdown",
   "metadata": {},
   "source": [
    "# Homework 2: Reuters News Dataset\n",
    "**Reuters News Dataset includes news article which can be categorized into 46 subjects.**\n",
    "- 로이터 뉴스 데이터셋은 뉴스 기사인 비정형 텍스트 데이터셋이다.\n",
    "- 46개의 뉴스 카테고리로 레이블링된 데이터이기 때문에 지도학습이 가능하다."
   ]
  },
  {
   "cell_type": "markdown",
   "metadata": {},
   "source": [
    "### 1. Load the Dataset"
   ]
  },
  {
   "cell_type": "code",
   "execution_count": 1,
   "metadata": {},
   "outputs": [],
   "source": [
    "%matplotlib inline\n",
    "import matplotlib.pyplot as plt\n",
    "import numpy as np\n",
    "import seaborn as sns\n",
    "import warnings\n",
    "warnings.filterwarnings(action='ignore') \n",
    "from keras.datasets import reuters\n",
    "from tensorflow.keras.models import Sequential\n",
    "from keras.utils.np_utils import to_categorical"
   ]
  },
  {
   "cell_type": "code",
   "execution_count": 2,
   "metadata": {},
   "outputs": [],
   "source": [
    "(train_data, train_labels), (test_data, test_labels) = reuters.load_data(num_words=1000, test_split=0.2)\n",
    "# train data 와 test data 의 비율을 8:2 로 나눈다."
   ]
  },
  {
   "cell_type": "code",
   "execution_count": 3,
   "metadata": {},
   "outputs": [
    {
     "name": "stdout",
     "output_type": "stream",
     "text": [
      "number of train data : 8982\n",
      "number of test data : 2246\n"
     ]
    }
   ],
   "source": [
    "print('number of train data : {}'.format(len(train_data)))\n",
    "print('number of test data : {}'.format(len(test_data)))\n",
    "\n",
    "# train data 와 test data 의 수를 각각 출력한다."
   ]
  },
  {
   "cell_type": "markdown",
   "metadata": {},
   "source": [
    "데이터셋이 어떻게 구성되어있는지 알기 위해 하나의 예시로 맨 첫번째 데이터를 출력해본다."
   ]
  },
  {
   "cell_type": "code",
   "execution_count": 4,
   "metadata": {},
   "outputs": [
    {
     "name": "stdout",
     "output_type": "stream",
     "text": [
      "[1, 2, 2, 8, 43, 10, 447, 5, 25, 207, 270, 5, 2, 111, 16, 369, 186, 90, 67, 7, 89, 5, 19, 102, 6, 19, 124, 15, 90, 67, 84, 22, 482, 26, 7, 48, 4, 49, 8, 864, 39, 209, 154, 6, 151, 6, 83, 11, 15, 22, 155, 11, 15, 7, 48, 9, 2, 2, 504, 6, 258, 6, 272, 11, 15, 22, 134, 44, 11, 15, 16, 8, 197, 2, 90, 67, 52, 29, 209, 30, 32, 132, 6, 109, 15, 17, 12]\n"
     ]
    }
   ],
   "source": [
    "print(train_data[0]) # train data 의 맨 첫번째 데이터는 숫자로 이루어져있다. 이 숫자들이 의미하는 바는 단어의 인덱스이다."
   ]
  },
  {
   "cell_type": "code",
   "execution_count": 5,
   "metadata": {},
   "outputs": [
    {
     "name": "stdout",
     "output_type": "stream",
     "text": [
      "3\n"
     ]
    }
   ],
   "source": [
    "print(train_labels[0])  # train data 의 맨 첫번째 데이터는 카테고리 번호 3번으로 레이블링 되어있다."
   ]
  },
  {
   "cell_type": "markdown",
   "metadata": {},
   "source": [
    "### 2. EDA (Exploratory Data Analysis)¶"
   ]
  },
  {
   "cell_type": "code",
   "execution_count": 6,
   "metadata": {},
   "outputs": [
    {
     "name": "stdout",
     "output_type": "stream",
     "text": [
      "Max length of the news article : 2376\n",
      "Average length of the news article : 145.5398574927633\n"
     ]
    }
   ],
   "source": [
    "len_result = [len(_) for _ in train_data]\n",
    "\n",
    "print('Max length of the news article : {}'.format(np.max(len_result)))\n",
    "print('Average length of the news article : {}'.format(np.mean(len_result)))\n",
    "\n",
    "# 뉴스 기사별로 길이가 모두 다름을 알 수 있다. 평균 길이는 145자이지만 가장 긴 길이는 2376자이다."
   ]
  },
  {
   "cell_type": "code",
   "execution_count": 7,
   "metadata": {},
   "outputs": [
    {
     "data": {
      "text/plain": [
       "<matplotlib.axes._subplots.AxesSubplot at 0x7f910388e4f0>"
      ]
     },
     "execution_count": 7,
     "metadata": {},
     "output_type": "execute_result"
    },
    {
     "data": {
      "image/png": "[encoded data removed]",
      "text/plain": [
       "<Figure size 1008x432 with 1 Axes>"
      ]
     },
     "metadata": {
      "needs_background": "light"
     },
     "output_type": "display_data"
    }
   ],
   "source": [
    "fig, _ = plt.subplots(ncols=1)\n",
    "fig.set_size_inches(14,6)\n",
    "sns.countplot(train_labels)\n",
    "\n",
    "# 전체 뉴스 기사 중에서 총 46개의 뉴스 카테고리 중 3번과 4번이 가장 많은 비중을 차지하고 있다.\n",
    "# 따라서 카테고리별로 데이터가 불균형하다."
   ]
  },
  {
   "cell_type": "markdown",
   "metadata": {},
   "source": [
    "### 3. Pre-processing"
   ]
  },
  {
   "cell_type": "markdown",
   "metadata": {},
   "source": [
    "#### One-hot Encoding"
   ]
  },
  {
   "cell_type": "code",
   "execution_count": 8,
   "metadata": {},
   "outputs": [],
   "source": [
    "def vectorize_sequences(sequences, dimension=10000):\n",
    "    results = np.zeros((len(sequences), dimension))\n",
    "    for i, sequence in enumerate(sequences):\n",
    "        results[i, sequence] = 1.\n",
    "    return results\n",
    "\n",
    "x_train = vectorize_sequences(train_data)\n",
    "x_val = vectorize_sequences(test_data)"
   ]
  },
  {
   "cell_type": "code",
   "execution_count": 9,
   "metadata": {},
   "outputs": [],
   "source": [
    "# 레이블링된 카테고리를 원 핫 인코딩을 통해 벡터의 차원으로 표현한다.\n",
    "y_train = to_categorical(train_labels)\n",
    "y_val = to_categorical(test_labels)"
   ]
  },
  {
   "cell_type": "markdown",
   "metadata": {},
   "source": [
    "## Experiments"
   ]
  },
  {
   "cell_type": "code",
   "execution_count": 10,
   "metadata": {},
   "outputs": [],
   "source": [
    "from keras import models\n",
    "from keras import layers"
   ]
  },
  {
   "cell_type": "markdown",
   "metadata": {},
   "source": [
    "### (1) Basic Neural Network Model\n",
    "- activation function: relu, sigmoid\n",
    "- optimizer: Adam\n",
    "- loss function: mean_squared_error\n",
    "- batch size: 64\n",
    "- epoch: 20"
   ]
  },
  {
   "cell_type": "code",
   "execution_count": 11,
   "metadata": {},
   "outputs": [],
   "source": [
    "model = models.Sequential()\n",
    "model.add(layers.Dense(64,activation='relu', input_shape=(10000,)))\n",
    "model.add(layers.Dense(64, activation='relu'))\n",
    "model.add(layers.Dense(46, activation='sigmoid'))"
   ]
  },
  {
   "cell_type": "code",
   "execution_count": 12,
   "metadata": {},
   "outputs": [],
   "source": [
    "model.compile(optimizer='adam',\n",
    "             loss='mean_squared_error',\n",
    "             metrics=['accuracy'])"
   ]
  },
  {
   "cell_type": "code",
   "execution_count": 13,
   "metadata": {},
   "outputs": [
    {
     "name": "stdout",
     "output_type": "stream",
     "text": [
      "Epoch 1/20\n",
      "71/71 [==============================] - 1s 14ms/step - loss: 0.1502 - accuracy: 0.1487 - val_loss: 0.0168 - val_accuracy: 0.4684\n",
      "Epoch 2/20\n",
      "71/71 [==============================] - 0s 6ms/step - loss: 0.0154 - accuracy: 0.5129 - val_loss: 0.0126 - val_accuracy: 0.5365\n",
      "Epoch 3/20\n",
      "71/71 [==============================] - 0s 5ms/step - loss: 0.0120 - accuracy: 0.5430 - val_loss: 0.0115 - val_accuracy: 0.5427\n",
      "Epoch 4/20\n",
      "71/71 [==============================] - 0s 4ms/step - loss: 0.0113 - accuracy: 0.5368 - val_loss: 0.0112 - val_accuracy: 0.5427\n",
      "Epoch 5/20\n",
      "71/71 [==============================] - 0s 4ms/step - loss: 0.0110 - accuracy: 0.5440 - val_loss: 0.0111 - val_accuracy: 0.5445\n",
      "Epoch 6/20\n",
      "71/71 [==============================] - 0s 4ms/step - loss: 0.0106 - accuracy: 0.5609 - val_loss: 0.0111 - val_accuracy: 0.5610\n",
      "Epoch 7/20\n",
      "71/71 [==============================] - 0s 4ms/step - loss: 0.0108 - accuracy: 0.5791 - val_loss: 0.0106 - val_accuracy: 0.5908\n",
      "Epoch 8/20\n",
      "71/71 [==============================] - 0s 4ms/step - loss: 0.0100 - accuracy: 0.6031 - val_loss: 0.0105 - val_accuracy: 0.6086\n",
      "Epoch 9/20\n",
      "71/71 [==============================] - 0s 4ms/step - loss: 0.0097 - accuracy: 0.6267 - val_loss: 0.0102 - val_accuracy: 0.6207\n",
      "Epoch 10/20\n",
      "71/71 [==============================] - 0s 4ms/step - loss: 0.0094 - accuracy: 0.6416 - val_loss: 0.0098 - val_accuracy: 0.6402\n",
      "Epoch 11/20\n",
      "71/71 [==============================] - 0s 4ms/step - loss: 0.0089 - accuracy: 0.6666 - val_loss: 0.0095 - val_accuracy: 0.6638\n",
      "Epoch 12/20\n",
      "71/71 [==============================] - 0s 4ms/step - loss: 0.0085 - accuracy: 0.6908 - val_loss: 0.0093 - val_accuracy: 0.6701\n",
      "Epoch 13/20\n",
      "71/71 [==============================] - 0s 4ms/step - loss: 0.0079 - accuracy: 0.7068 - val_loss: 0.0091 - val_accuracy: 0.6679\n",
      "Epoch 14/20\n",
      "71/71 [==============================] - 0s 4ms/step - loss: 0.0078 - accuracy: 0.7052 - val_loss: 0.0090 - val_accuracy: 0.6692\n",
      "Epoch 15/20\n",
      "71/71 [==============================] - 0s 4ms/step - loss: 0.0075 - accuracy: 0.7122 - val_loss: 0.0090 - val_accuracy: 0.6736\n",
      "Epoch 16/20\n",
      "71/71 [==============================] - 0s 4ms/step - loss: 0.0074 - accuracy: 0.7130 - val_loss: 0.0090 - val_accuracy: 0.6710\n",
      "Epoch 17/20\n",
      "71/71 [==============================] - 0s 4ms/step - loss: 0.0074 - accuracy: 0.7153 - val_loss: 0.0090 - val_accuracy: 0.6745\n",
      "Epoch 18/20\n",
      "71/71 [==============================] - 0s 4ms/step - loss: 0.0072 - accuracy: 0.7190 - val_loss: 0.0089 - val_accuracy: 0.6763\n",
      "Epoch 19/20\n",
      "71/71 [==============================] - 0s 4ms/step - loss: 0.0071 - accuracy: 0.7256 - val_loss: 0.0090 - val_accuracy: 0.6750\n",
      "Epoch 20/20\n",
      "71/71 [==============================] - 0s 4ms/step - loss: 0.0070 - accuracy: 0.7242 - val_loss: 0.0089 - val_accuracy: 0.6781\n"
     ]
    }
   ],
   "source": [
    "history = model.fit(x_train,\n",
    "                    y_train,\n",
    "                    epochs = 20,\n",
    "                    batch_size = 128,\n",
    "                    validation_data=(x_val, y_val))"
   ]
  },
  {
   "cell_type": "code",
   "execution_count": 14,
   "metadata": {},
   "outputs": [
    {
     "data": {
      "image/png": "[encoded data removed]",
      "text/plain": [
       "<Figure size 432x288 with 1 Axes>"
      ]
     },
     "metadata": {
      "needs_background": "light"
     },
     "output_type": "display_data"
    }
   ],
   "source": [
    "# loss 의 변화 시각화\n",
    "\n",
    "history_dict = history.history\n",
    "loss = history_dict['loss']\n",
    "val_loss = history_dict['val_loss']\n",
    "\n",
    "epochs = range(1,len(loss)+1)\n",
    "\n",
    "plt.plot(epochs, loss, 'bo', label='Training loss', color='limegreen')\n",
    "plt.plot(epochs, val_loss, 'b', label='Validation loss', color = 'violet')\n",
    "plt.title('Training and validation loss')\n",
    "plt.xlabel('Epochs')\n",
    "plt.ylabel('Loss')\n",
    "plt.legend()\n",
    "plt.show()"
   ]
  },
  {
   "cell_type": "markdown",
   "metadata": {},
   "source": [
    "### (2) Basic model + loss function = categorical_crossentropy\n",
    "다중분류에 사용되는 손실함수인 categorial_crossentropy 를 사용해 모델을 변경했다. categorical_crossentropy 함수는 one-hot encoding 으로 클래스가 나눠진 경우에 사용할 수 있다.\n",
    "- activation function: relu, sigmoid\n",
    "- optimizer: Adam\n",
    "- **loss function: categorical_crossentropy**\n",
    "- batch size: 64\n",
    "- epoch: 20"
   ]
  },
  {
   "cell_type": "code",
   "execution_count": 15,
   "metadata": {},
   "outputs": [],
   "source": [
    "model = models.Sequential()\n",
    "model.add(layers.Dense(64,activation='relu', input_shape=(10000,)))\n",
    "model.add(layers.Dense(64, activation='relu'))\n",
    "model.add(layers.Dense(46, activation='sigmoid'))"
   ]
  },
  {
   "cell_type": "code",
   "execution_count": 16,
   "metadata": {},
   "outputs": [],
   "source": [
    "model.compile(optimizer='adam',\n",
    "             loss='categorical_crossentropy',\n",
    "             metrics=['accuracy'])"
   ]
  },
  {
   "cell_type": "code",
   "execution_count": 17,
   "metadata": {},
   "outputs": [
    {
     "name": "stdout",
     "output_type": "stream",
     "text": [
      "Epoch 1/20\n",
      "71/71 [==============================] - 1s 7ms/step - loss: 2.9068 - accuracy: 0.4513 - val_loss: 1.4698 - val_accuracy: 0.6679\n",
      "Epoch 2/20\n",
      "71/71 [==============================] - 0s 4ms/step - loss: 1.2790 - accuracy: 0.7131 - val_loss: 1.1764 - val_accuracy: 0.7284\n",
      "Epoch 3/20\n",
      "71/71 [==============================] - 0s 4ms/step - loss: 1.0241 - accuracy: 0.7771 - val_loss: 1.0440 - val_accuracy: 0.7569\n",
      "Epoch 4/20\n",
      "71/71 [==============================] - 0s 4ms/step - loss: 0.7657 - accuracy: 0.8223 - val_loss: 0.9750 - val_accuracy: 0.7729\n",
      "Epoch 5/20\n",
      "71/71 [==============================] - 0s 4ms/step - loss: 0.6555 - accuracy: 0.8470 - val_loss: 0.9492 - val_accuracy: 0.7747\n",
      "Epoch 6/20\n",
      "71/71 [==============================] - 0s 4ms/step - loss: 0.5491 - accuracy: 0.8771 - val_loss: 0.9159 - val_accuracy: 0.7934\n",
      "Epoch 7/20\n",
      "71/71 [==============================] - 0s 4ms/step - loss: 0.4798 - accuracy: 0.8898 - val_loss: 0.9261 - val_accuracy: 0.7898\n",
      "Epoch 8/20\n",
      "71/71 [==============================] - 0s 4ms/step - loss: 0.4233 - accuracy: 0.8994 - val_loss: 0.9507 - val_accuracy: 0.7827\n",
      "Epoch 9/20\n",
      "71/71 [==============================] - 0s 5ms/step - loss: 0.3816 - accuracy: 0.9121 - val_loss: 0.9662 - val_accuracy: 0.7872\n",
      "Epoch 10/20\n",
      "71/71 [==============================] - 0s 5ms/step - loss: 0.3237 - accuracy: 0.9226 - val_loss: 0.9772 - val_accuracy: 0.7876\n",
      "Epoch 11/20\n",
      "71/71 [==============================] - 0s 5ms/step - loss: 0.2820 - accuracy: 0.9334 - val_loss: 1.0327 - val_accuracy: 0.7801\n",
      "Epoch 12/20\n",
      "71/71 [==============================] - 0s 5ms/step - loss: 0.2542 - accuracy: 0.9380 - val_loss: 1.0427 - val_accuracy: 0.7827\n",
      "Epoch 13/20\n",
      "71/71 [==============================] - 0s 5ms/step - loss: 0.2555 - accuracy: 0.9375 - val_loss: 1.0636 - val_accuracy: 0.7783\n",
      "Epoch 14/20\n",
      "71/71 [==============================] - 0s 5ms/step - loss: 0.2243 - accuracy: 0.9438 - val_loss: 1.1007 - val_accuracy: 0.7756\n",
      "Epoch 15/20\n",
      "71/71 [==============================] - 0s 5ms/step - loss: 0.2111 - accuracy: 0.9447 - val_loss: 1.1282 - val_accuracy: 0.7747\n",
      "Epoch 16/20\n",
      "71/71 [==============================] - 0s 5ms/step - loss: 0.1901 - accuracy: 0.9483 - val_loss: 1.1320 - val_accuracy: 0.7738\n",
      "Epoch 17/20\n",
      "71/71 [==============================] - 0s 5ms/step - loss: 0.1884 - accuracy: 0.9501 - val_loss: 1.1575 - val_accuracy: 0.7756\n",
      "Epoch 18/20\n",
      "71/71 [==============================] - 0s 5ms/step - loss: 0.1675 - accuracy: 0.9536 - val_loss: 1.2001 - val_accuracy: 0.7640\n",
      "Epoch 19/20\n",
      "71/71 [==============================] - 0s 5ms/step - loss: 0.1615 - accuracy: 0.9530 - val_loss: 1.2145 - val_accuracy: 0.7680\n",
      "Epoch 20/20\n",
      "71/71 [==============================] - 0s 5ms/step - loss: 0.1621 - accuracy: 0.9551 - val_loss: 1.2290 - val_accuracy: 0.7658\n"
     ]
    }
   ],
   "source": [
    "history = model.fit(x_train,\n",
    "                    y_train,\n",
    "                    epochs = 20,\n",
    "                    batch_size = 128,\n",
    "                    validation_data=(x_val, y_val))"
   ]
  },
  {
   "cell_type": "code",
   "execution_count": 18,
   "metadata": {},
   "outputs": [
    {
     "data": {
      "image/png": "[encoded data removed]",
      "text/plain": [
       "<Figure size 432x288 with 1 Axes>"
      ]
     },
     "metadata": {
      "needs_background": "light"
     },
     "output_type": "display_data"
    }
   ],
   "source": [
    "# loss 의 변화 시각화\n",
    "\n",
    "history_dict = history.history\n",
    "loss = history_dict['loss']\n",
    "val_loss = history_dict['val_loss']\n",
    "\n",
    "epochs = range(1,len(loss)+1)\n",
    "\n",
    "plt.plot(epochs, loss, 'bo', label='Training loss', color='limegreen')\n",
    "plt.plot(epochs, val_loss, 'b', label='Validation loss', color = 'violet')\n",
    "plt.title('Training and validation loss')\n",
    "plt.xlabel('Epochs')\n",
    "plt.ylabel('Loss')\n",
    "plt.legend()\n",
    "plt.show()"
   ]
  },
  {
   "cell_type": "markdown",
   "metadata": {},
   "source": [
    "**결과: 손실함수를 categorical_crossentropy 로 바꾸자 정확도는 76% 로 증가했다. training loss 는 epoch 가 늘어날수록 줄어드나 validation loss 는 증가해 학습이 안정적으로 이루어지지 않았다.**"
   ]
  },
  {
   "cell_type": "markdown",
   "metadata": {},
   "source": [
    "### (3) Basic model + loss function = categorical_crossentropy + activation = softmax\n",
    "softmax 함수는 다중분류에 많이 사용되는 활성화 함수이다. 로이터 뉴스 기사 데이터는 카테고리가 46개이므로 softmax 함수를 사용해본다.\n",
    "- **activation function: relu, softmax**\n",
    "- optimizer: Adam\n",
    "- loss function: categorical_crossentropy\n",
    "- batch size: 64\n",
    "- epoch: 20"
   ]
  },
  {
   "cell_type": "code",
   "execution_count": 19,
   "metadata": {},
   "outputs": [],
   "source": [
    "model = models.Sequential()\n",
    "model.add(layers.Dense(64,activation='relu', input_shape=(10000,)))\n",
    "model.add(layers.Dense(64, activation='relu'))\n",
    "model.add(layers.Dense(46, activation='softmax'))"
   ]
  },
  {
   "cell_type": "code",
   "execution_count": 20,
   "metadata": {},
   "outputs": [],
   "source": [
    "model.compile(optimizer='adam',\n",
    "             loss='categorical_crossentropy',\n",
    "             metrics=['accuracy'])"
   ]
  },
  {
   "cell_type": "code",
   "execution_count": 21,
   "metadata": {},
   "outputs": [
    {
     "name": "stdout",
     "output_type": "stream",
     "text": [
      "Epoch 1/20\n",
      "141/141 [==============================] - 1s 4ms/step - loss: 2.5209 - accuracy: 0.5040 - val_loss: 1.2896 - val_accuracy: 0.7004\n",
      "Epoch 2/20\n",
      "141/141 [==============================] - 0s 3ms/step - loss: 1.1033 - accuracy: 0.7498 - val_loss: 1.0599 - val_accuracy: 0.7596\n",
      "Epoch 3/20\n",
      "141/141 [==============================] - 0s 3ms/step - loss: 0.8310 - accuracy: 0.8128 - val_loss: 0.9853 - val_accuracy: 0.7654\n",
      "Epoch 4/20\n",
      "141/141 [==============================] - 0s 3ms/step - loss: 0.6528 - accuracy: 0.8446 - val_loss: 0.9401 - val_accuracy: 0.7752\n",
      "Epoch 5/20\n",
      "141/141 [==============================] - 0s 3ms/step - loss: 0.5342 - accuracy: 0.8720 - val_loss: 0.9304 - val_accuracy: 0.7801\n",
      "Epoch 6/20\n",
      "141/141 [==============================] - 0s 3ms/step - loss: 0.4529 - accuracy: 0.8936 - val_loss: 0.9329 - val_accuracy: 0.7809\n",
      "Epoch 7/20\n",
      "141/141 [==============================] - 0s 3ms/step - loss: 0.3615 - accuracy: 0.9173 - val_loss: 0.9664 - val_accuracy: 0.7778\n",
      "Epoch 8/20\n",
      "141/141 [==============================] - 0s 3ms/step - loss: 0.3180 - accuracy: 0.9247 - val_loss: 1.0147 - val_accuracy: 0.7818\n",
      "Epoch 9/20\n",
      "141/141 [==============================] - 0s 3ms/step - loss: 0.2638 - accuracy: 0.9345 - val_loss: 1.0409 - val_accuracy: 0.7774\n",
      "Epoch 10/20\n",
      "141/141 [==============================] - 0s 3ms/step - loss: 0.2389 - accuracy: 0.9408 - val_loss: 1.0646 - val_accuracy: 0.7778\n",
      "Epoch 11/20\n",
      "141/141 [==============================] - 0s 3ms/step - loss: 0.2125 - accuracy: 0.9470 - val_loss: 1.0845 - val_accuracy: 0.7752\n",
      "Epoch 12/20\n",
      "141/141 [==============================] - 0s 3ms/step - loss: 0.1882 - accuracy: 0.9510 - val_loss: 1.1223 - val_accuracy: 0.7792\n",
      "Epoch 13/20\n",
      "141/141 [==============================] - 0s 3ms/step - loss: 0.1797 - accuracy: 0.9516 - val_loss: 1.1545 - val_accuracy: 0.7792\n",
      "Epoch 14/20\n",
      "141/141 [==============================] - 0s 3ms/step - loss: 0.1630 - accuracy: 0.9519 - val_loss: 1.2069 - val_accuracy: 0.7734\n",
      "Epoch 15/20\n",
      "141/141 [==============================] - 0s 3ms/step - loss: 0.1680 - accuracy: 0.9531 - val_loss: 1.2007 - val_accuracy: 0.7720\n",
      "Epoch 16/20\n",
      "141/141 [==============================] - 0s 3ms/step - loss: 0.1542 - accuracy: 0.9534 - val_loss: 1.2414 - val_accuracy: 0.7631\n",
      "Epoch 17/20\n",
      "141/141 [==============================] - 0s 3ms/step - loss: 0.1330 - accuracy: 0.9589 - val_loss: 1.2777 - val_accuracy: 0.7694\n",
      "Epoch 18/20\n",
      "141/141 [==============================] - 0s 3ms/step - loss: 0.1304 - accuracy: 0.9580 - val_loss: 1.2563 - val_accuracy: 0.7618\n",
      "Epoch 19/20\n",
      "141/141 [==============================] - 0s 3ms/step - loss: 0.1347 - accuracy: 0.9554 - val_loss: 1.2799 - val_accuracy: 0.7658\n",
      "Epoch 20/20\n",
      "141/141 [==============================] - 0s 3ms/step - loss: 0.1201 - accuracy: 0.9606 - val_loss: 1.3239 - val_accuracy: 0.7676\n"
     ]
    }
   ],
   "source": [
    "history = model.fit(x_train,\n",
    "                    y_train,\n",
    "                    epochs = 20,\n",
    "                    batch_size = 64,\n",
    "                    validation_data=(x_val, y_val))"
   ]
  },
  {
   "cell_type": "code",
   "execution_count": 22,
   "metadata": {},
   "outputs": [
    {
     "data": {
      "image/png": "[encoded data removed]",
      "text/plain": [
       "<Figure size 432x288 with 1 Axes>"
      ]
     },
     "metadata": {
      "needs_background": "light"
     },
     "output_type": "display_data"
    }
   ],
   "source": [
    "# loss 의 변화 시각화\n",
    "\n",
    "history_dict = history.history\n",
    "loss = history_dict['loss']\n",
    "val_loss = history_dict['val_loss']\n",
    "\n",
    "epochs = range(1,len(loss)+1)\n",
    "\n",
    "plt.plot(epochs, loss, 'bo', label='Training loss', color='limegreen')\n",
    "plt.plot(epochs, val_loss, 'b', label='Validation loss', color = 'violet')\n",
    "plt.title('Training and validation loss')\n",
    "plt.xlabel('Epochs')\n",
    "plt.ylabel('Loss')\n",
    "plt.legend()\n",
    "plt.show()"
   ]
  },
  {
   "cell_type": "markdown",
   "metadata": {},
   "source": [
    "**결과: softmax 함수를 사용해도 오버피팅이 해결되지 않았다.**"
   ]
  },
  {
   "cell_type": "markdown",
   "metadata": {},
   "source": [
    "### (4) Basic model + loss function = categorical_crossentropy + activation = relu, softmax + Adding more layers\n",
    "바로 앞선 실험의 모델에서 신경망 층을 더 추가해보았다.\n",
    "- activation function: relu, softmax\n",
    "- optimizer: Adam\n",
    "- loss function: categorical_crossentropy\n",
    "- batch size: 64\n",
    "- epoch: 20"
   ]
  },
  {
   "cell_type": "code",
   "execution_count": 23,
   "metadata": {},
   "outputs": [],
   "source": [
    "model = models.Sequential()\n",
    "model.add(layers.Dense(64,activation='relu', input_shape=(10000,)))\n",
    "model.add(layers.Dense(64, activation='relu'))\n",
    "model.add(layers.Dense(64, activation='relu'))\n",
    "model.add(layers.Dense(64, activation='relu'))\n",
    "model.add(layers.Dense(64, activation='relu'))\n",
    "model.add(layers.Dense(64, activation='relu'))\n",
    "model.add(layers.Dense(46, activation='softmax'))"
   ]
  },
  {
   "cell_type": "code",
   "execution_count": 24,
   "metadata": {},
   "outputs": [],
   "source": [
    "model.compile(optimizer='adam',\n",
    "             loss='categorical_crossentropy',\n",
    "             metrics=['accuracy'])"
   ]
  },
  {
   "cell_type": "code",
   "execution_count": 25,
   "metadata": {},
   "outputs": [
    {
     "name": "stdout",
     "output_type": "stream",
     "text": [
      "Epoch 1/20\n",
      "141/141 [==============================] - 1s 4ms/step - loss: 2.5542 - accuracy: 0.4135 - val_loss: 1.4573 - val_accuracy: 0.6625\n",
      "Epoch 2/20\n",
      "141/141 [==============================] - 1s 4ms/step - loss: 1.2435 - accuracy: 0.7096 - val_loss: 1.2043 - val_accuracy: 0.7142\n",
      "Epoch 3/20\n",
      "141/141 [==============================] - 0s 3ms/step - loss: 0.9659 - accuracy: 0.7629 - val_loss: 1.1155 - val_accuracy: 0.7391\n",
      "Epoch 4/20\n",
      "141/141 [==============================] - 0s 3ms/step - loss: 0.7289 - accuracy: 0.8245 - val_loss: 1.0973 - val_accuracy: 0.7418\n",
      "Epoch 5/20\n",
      "141/141 [==============================] - 0s 3ms/step - loss: 0.5988 - accuracy: 0.8475 - val_loss: 1.1206 - val_accuracy: 0.7498\n",
      "Epoch 6/20\n",
      "141/141 [==============================] - 0s 3ms/step - loss: 0.5074 - accuracy: 0.8594 - val_loss: 1.1845 - val_accuracy: 0.7427\n",
      "Epoch 7/20\n",
      "141/141 [==============================] - 1s 4ms/step - loss: 0.4417 - accuracy: 0.8827 - val_loss: 1.2267 - val_accuracy: 0.7520\n",
      "Epoch 8/20\n",
      "141/141 [==============================] - 0s 3ms/step - loss: 0.3757 - accuracy: 0.8962 - val_loss: 1.3182 - val_accuracy: 0.7467\n",
      "Epoch 9/20\n",
      "141/141 [==============================] - 0s 3ms/step - loss: 0.3386 - accuracy: 0.9057 - val_loss: 1.4384 - val_accuracy: 0.7560\n",
      "Epoch 10/20\n",
      "141/141 [==============================] - 0s 3ms/step - loss: 0.2703 - accuracy: 0.9278 - val_loss: 1.4802 - val_accuracy: 0.7520\n",
      "Epoch 11/20\n",
      "141/141 [==============================] - 0s 3ms/step - loss: 0.2399 - accuracy: 0.9334 - val_loss: 1.6215 - val_accuracy: 0.7484\n",
      "Epoch 12/20\n",
      "141/141 [==============================] - 0s 3ms/step - loss: 0.2212 - accuracy: 0.9340 - val_loss: 1.6240 - val_accuracy: 0.7484\n",
      "Epoch 13/20\n",
      "141/141 [==============================] - 0s 3ms/step - loss: 0.2070 - accuracy: 0.9376 - val_loss: 1.7069 - val_accuracy: 0.7449\n",
      "Epoch 14/20\n",
      "141/141 [==============================] - 0s 3ms/step - loss: 0.1830 - accuracy: 0.9447 - val_loss: 1.8045 - val_accuracy: 0.7431\n",
      "Epoch 15/20\n",
      "141/141 [==============================] - 0s 3ms/step - loss: 0.1845 - accuracy: 0.9447 - val_loss: 1.8439 - val_accuracy: 0.7369\n",
      "Epoch 16/20\n",
      "141/141 [==============================] - 1s 4ms/step - loss: 0.1611 - accuracy: 0.9468 - val_loss: 1.8614 - val_accuracy: 0.7422\n",
      "Epoch 17/20\n",
      "141/141 [==============================] - 0s 3ms/step - loss: 0.1446 - accuracy: 0.9527 - val_loss: 1.9362 - val_accuracy: 0.7453\n",
      "Epoch 18/20\n",
      "141/141 [==============================] - 0s 3ms/step - loss: 0.1257 - accuracy: 0.9566 - val_loss: 1.8997 - val_accuracy: 0.7395\n",
      "Epoch 19/20\n",
      "141/141 [==============================] - 0s 3ms/step - loss: 0.1235 - accuracy: 0.9569 - val_loss: 2.1021 - val_accuracy: 0.7418\n",
      "Epoch 20/20\n",
      "141/141 [==============================] - 1s 4ms/step - loss: 0.1225 - accuracy: 0.9566 - val_loss: 2.1424 - val_accuracy: 0.7444\n"
     ]
    }
   ],
   "source": [
    "history = model.fit(x_train,\n",
    "                    y_train,\n",
    "                    epochs = 20,\n",
    "                    batch_size = 64,\n",
    "                    validation_data=(x_val, y_val))"
   ]
  },
  {
   "cell_type": "code",
   "execution_count": 26,
   "metadata": {},
   "outputs": [
    {
     "data": {
      "image/png": "[encoded data removed]",
      "text/plain": [
       "<Figure size 432x288 with 1 Axes>"
      ]
     },
     "metadata": {
      "needs_background": "light"
     },
     "output_type": "display_data"
    }
   ],
   "source": [
    "# loss 의 변화 시각화\n",
    "\n",
    "history_dict = history.history\n",
    "loss = history_dict['loss']\n",
    "val_loss = history_dict['val_loss']\n",
    "\n",
    "epochs = range(1,len(loss)+1)\n",
    "\n",
    "plt.plot(epochs, loss, 'bo', label='Training loss', color='limegreen')\n",
    "plt.plot(epochs, val_loss, 'b', label='Validation loss', color = 'violet')\n",
    "plt.title('Training and validation loss')\n",
    "plt.xlabel('Epochs')\n",
    "plt.ylabel('Loss')\n",
    "plt.legend()\n",
    "plt.show()"
   ]
  },
  {
   "cell_type": "markdown",
   "metadata": {},
   "source": [
    "**결과: 신경망 레이어를 추가해도 오버피팅 문제를 해결할 수 없었다.**"
   ]
  },
  {
   "cell_type": "markdown",
   "metadata": {},
   "source": [
    "### (5) Basic model + loss function = categorical_hinge + activation = relu, softmax\n",
    "손실함수를 분류기에 많이 사용되는 categorical_crossentropy 에서 categorical_hinge 로 변경해보았다. \n",
    "- activation function: relu, softmax\n",
    "- optimizer: Adam\n",
    "- loss function: categorical_crossentropy\n",
    "- batch size: 64\n",
    "- epoch: 20"
   ]
  },
  {
   "cell_type": "code",
   "execution_count": 27,
   "metadata": {},
   "outputs": [],
   "source": [
    "model = models.Sequential()\n",
    "model.add(layers.Dense(64,activation='relu', input_shape=(10000,)))\n",
    "model.add(layers.Dense(64, activation='relu'))\n",
    "model.add(layers.Dense(46, activation='softmax'))"
   ]
  },
  {
   "cell_type": "code",
   "execution_count": 28,
   "metadata": {},
   "outputs": [],
   "source": [
    "model.compile(optimizer='adam',\n",
    "             loss='categorical_hinge',\n",
    "             metrics=['accuracy'])"
   ]
  },
  {
   "cell_type": "code",
   "execution_count": 29,
   "metadata": {},
   "outputs": [
    {
     "name": "stdout",
     "output_type": "stream",
     "text": [
      "Epoch 1/20\n",
      "141/141 [==============================] - 1s 4ms/step - loss: 0.8961 - accuracy: 0.4558 - val_loss: 0.5408 - val_accuracy: 0.6073\n",
      "Epoch 2/20\n",
      "141/141 [==============================] - 0s 3ms/step - loss: 0.5247 - accuracy: 0.6534 - val_loss: 0.5222 - val_accuracy: 0.6745\n",
      "Epoch 3/20\n",
      "141/141 [==============================] - 0s 3ms/step - loss: 0.4989 - accuracy: 0.7038 - val_loss: 0.5026 - val_accuracy: 0.6861\n",
      "Epoch 4/20\n",
      "141/141 [==============================] - 0s 3ms/step - loss: 0.4501 - accuracy: 0.7126 - val_loss: 0.4468 - val_accuracy: 0.7061\n",
      "Epoch 5/20\n",
      "141/141 [==============================] - 0s 3ms/step - loss: 0.3885 - accuracy: 0.7483 - val_loss: 0.4383 - val_accuracy: 0.7133\n",
      "Epoch 6/20\n",
      "141/141 [==============================] - 0s 3ms/step - loss: 0.3630 - accuracy: 0.7630 - val_loss: 0.4311 - val_accuracy: 0.7195\n",
      "Epoch 7/20\n",
      "141/141 [==============================] - 0s 3ms/step - loss: 0.3399 - accuracy: 0.7832 - val_loss: 0.4292 - val_accuracy: 0.7289\n",
      "Epoch 8/20\n",
      "141/141 [==============================] - 0s 3ms/step - loss: 0.3294 - accuracy: 0.7917 - val_loss: 0.4259 - val_accuracy: 0.7422\n",
      "Epoch 9/20\n",
      "141/141 [==============================] - 0s 3ms/step - loss: 0.3230 - accuracy: 0.8046 - val_loss: 0.4219 - val_accuracy: 0.7404\n",
      "Epoch 10/20\n",
      "141/141 [==============================] - 0s 3ms/step - loss: 0.3036 - accuracy: 0.8194 - val_loss: 0.4175 - val_accuracy: 0.7440\n",
      "Epoch 11/20\n",
      "141/141 [==============================] - 0s 3ms/step - loss: 0.2938 - accuracy: 0.8255 - val_loss: 0.4163 - val_accuracy: 0.7453\n",
      "Epoch 12/20\n",
      "141/141 [==============================] - 0s 3ms/step - loss: 0.2714 - accuracy: 0.8321 - val_loss: 0.4187 - val_accuracy: 0.7449\n",
      "Epoch 13/20\n",
      "141/141 [==============================] - 0s 3ms/step - loss: 0.2691 - accuracy: 0.8309 - val_loss: 0.4048 - val_accuracy: 0.7556\n",
      "Epoch 14/20\n",
      "141/141 [==============================] - 0s 3ms/step - loss: 0.2451 - accuracy: 0.8488 - val_loss: 0.4035 - val_accuracy: 0.7591\n",
      "Epoch 15/20\n",
      "141/141 [==============================] - 0s 3ms/step - loss: 0.2399 - accuracy: 0.8516 - val_loss: 0.4042 - val_accuracy: 0.7596\n",
      "Epoch 16/20\n",
      "141/141 [==============================] - 0s 3ms/step - loss: 0.2239 - accuracy: 0.8624 - val_loss: 0.4020 - val_accuracy: 0.7614\n",
      "Epoch 17/20\n",
      "141/141 [==============================] - 0s 3ms/step - loss: 0.2228 - accuracy: 0.8628 - val_loss: 0.3981 - val_accuracy: 0.7649\n",
      "Epoch 18/20\n",
      "141/141 [==============================] - 0s 3ms/step - loss: 0.2123 - accuracy: 0.8729 - val_loss: 0.4004 - val_accuracy: 0.7631\n",
      "Epoch 19/20\n",
      "141/141 [==============================] - 1s 4ms/step - loss: 0.2136 - accuracy: 0.8703 - val_loss: 0.3943 - val_accuracy: 0.7698\n",
      "Epoch 20/20\n",
      "141/141 [==============================] - 0s 4ms/step - loss: 0.1989 - accuracy: 0.8792 - val_loss: 0.3932 - val_accuracy: 0.7703\n"
     ]
    }
   ],
   "source": [
    "history = model.fit(x_train,\n",
    "                    y_train,\n",
    "                    epochs = 20,\n",
    "                    batch_size = 64,\n",
    "                    validation_data=(x_val, y_val))"
   ]
  },
  {
   "cell_type": "code",
   "execution_count": 30,
   "metadata": {},
   "outputs": [
    {
     "data": {
      "image/png": "[encoded data removed]",
      "text/plain": [
       "<Figure size 432x288 with 1 Axes>"
      ]
     },
     "metadata": {
      "needs_background": "light"
     },
     "output_type": "display_data"
    }
   ],
   "source": [
    "# loss 의 변화 시각화\n",
    "\n",
    "history_dict = history.history\n",
    "loss = history_dict['loss']\n",
    "val_loss = history_dict['val_loss']\n",
    "\n",
    "epochs = range(1,len(loss)+1)\n",
    "\n",
    "plt.plot(epochs, loss, 'bo', label='Training loss', color='limegreen')\n",
    "plt.plot(epochs, val_loss, 'b', label='Validation loss', color = 'violet')\n",
    "plt.title('Training and validation loss')\n",
    "plt.xlabel('Epochs')\n",
    "plt.ylabel('Loss')\n",
    "plt.legend()\n",
    "plt.show()"
   ]
  },
  {
   "cell_type": "markdown",
   "metadata": {},
   "source": [
    "**결과: 이 경우 예측 정확도는 77%가 나왔다. 학습 수가 늘어날수록 validation loss 가 줄어드는 추세이나 급격히 줄어들지는 않았다.**"
   ]
  },
  {
   "cell_type": "markdown",
   "metadata": {},
   "source": [
    "### (6) Basic model + loss function = categorical_hinge + activation = relu, softmax + batch_size = 256\n",
    "안정적인 학습을 위해 batch size 를 64에서 256으로 키워보았다. \n",
    "- activation function: relu, softmax\n",
    "- optimizer: Adam\n",
    "- loss function: categorical_hinge\n",
    "- **batch size: 256**\n",
    "- epoch: 20"
   ]
  },
  {
   "cell_type": "code",
   "execution_count": 31,
   "metadata": {},
   "outputs": [],
   "source": [
    "model = models.Sequential()\n",
    "model.add(layers.Dense(64,activation='relu', input_shape=(10000,)))\n",
    "model.add(layers.Dense(64, activation='relu'))\n",
    "model.add(layers.Dense(46, activation='softmax'))"
   ]
  },
  {
   "cell_type": "code",
   "execution_count": 32,
   "metadata": {},
   "outputs": [],
   "source": [
    "model.compile(optimizer='adam',\n",
    "             loss='categorical_hinge',\n",
    "             metrics=['accuracy'])"
   ]
  },
  {
   "cell_type": "code",
   "execution_count": 33,
   "metadata": {},
   "outputs": [
    {
     "name": "stdout",
     "output_type": "stream",
     "text": [
      "Epoch 1/50\n",
      "36/36 [==============================] - 1s 24ms/step - loss: 0.9930 - accuracy: 0.4125 - val_loss: 0.7738 - val_accuracy: 0.5628\n",
      "Epoch 2/50\n",
      "36/36 [==============================] - 0s 9ms/step - loss: 0.6567 - accuracy: 0.6030 - val_loss: 0.5470 - val_accuracy: 0.6598\n",
      "Epoch 3/50\n",
      "36/36 [==============================] - 0s 9ms/step - loss: 0.5265 - accuracy: 0.6825 - val_loss: 0.5277 - val_accuracy: 0.6728\n",
      "Epoch 4/50\n",
      "36/36 [==============================] - 0s 9ms/step - loss: 0.5037 - accuracy: 0.7007 - val_loss: 0.5033 - val_accuracy: 0.6857\n",
      "Epoch 5/50\n",
      "36/36 [==============================] - 0s 9ms/step - loss: 0.4704 - accuracy: 0.7090 - val_loss: 0.4764 - val_accuracy: 0.7017\n",
      "Epoch 6/50\n",
      "36/36 [==============================] - 0s 9ms/step - loss: 0.4271 - accuracy: 0.7375 - val_loss: 0.4629 - val_accuracy: 0.7093\n",
      "Epoch 7/50\n",
      "36/36 [==============================] - 0s 9ms/step - loss: 0.4056 - accuracy: 0.7491 - val_loss: 0.4491 - val_accuracy: 0.7320\n",
      "Epoch 8/50\n",
      "36/36 [==============================] - 0s 9ms/step - loss: 0.3788 - accuracy: 0.7713 - val_loss: 0.4428 - val_accuracy: 0.7329\n",
      "Epoch 9/50\n",
      "36/36 [==============================] - 0s 9ms/step - loss: 0.3588 - accuracy: 0.7835 - val_loss: 0.4376 - val_accuracy: 0.7418\n",
      "Epoch 10/50\n",
      "36/36 [==============================] - 0s 9ms/step - loss: 0.3489 - accuracy: 0.7947 - val_loss: 0.4322 - val_accuracy: 0.7413\n",
      "Epoch 11/50\n",
      "36/36 [==============================] - 0s 9ms/step - loss: 0.3339 - accuracy: 0.7987 - val_loss: 0.4239 - val_accuracy: 0.7520\n",
      "Epoch 12/50\n",
      "36/36 [==============================] - 0s 9ms/step - loss: 0.3268 - accuracy: 0.8040 - val_loss: 0.4199 - val_accuracy: 0.7556\n",
      "Epoch 13/50\n",
      "36/36 [==============================] - 0s 9ms/step - loss: 0.3099 - accuracy: 0.8132 - val_loss: 0.4176 - val_accuracy: 0.7511\n",
      "Epoch 14/50\n",
      "36/36 [==============================] - 0s 9ms/step - loss: 0.2993 - accuracy: 0.8246 - val_loss: 0.4081 - val_accuracy: 0.7605\n",
      "Epoch 15/50\n",
      "36/36 [==============================] - 0s 9ms/step - loss: 0.2795 - accuracy: 0.8356 - val_loss: 0.4033 - val_accuracy: 0.7654\n",
      "Epoch 16/50\n",
      "36/36 [==============================] - 0s 9ms/step - loss: 0.2673 - accuracy: 0.8411 - val_loss: 0.4046 - val_accuracy: 0.7658\n",
      "Epoch 17/50\n",
      "36/36 [==============================] - 0s 9ms/step - loss: 0.2656 - accuracy: 0.8394 - val_loss: 0.4005 - val_accuracy: 0.7649\n",
      "Epoch 18/50\n",
      "36/36 [==============================] - 0s 9ms/step - loss: 0.2537 - accuracy: 0.8492 - val_loss: 0.4006 - val_accuracy: 0.7618\n",
      "Epoch 19/50\n",
      "36/36 [==============================] - 0s 9ms/step - loss: 0.2377 - accuracy: 0.8567 - val_loss: 0.3975 - val_accuracy: 0.7676\n",
      "Epoch 20/50\n",
      "36/36 [==============================] - 0s 9ms/step - loss: 0.2420 - accuracy: 0.8607 - val_loss: 0.3986 - val_accuracy: 0.7645\n",
      "Epoch 21/50\n",
      "36/36 [==============================] - 0s 10ms/step - loss: 0.2326 - accuracy: 0.8640 - val_loss: 0.3938 - val_accuracy: 0.7720\n",
      "Epoch 22/50\n",
      "36/36 [==============================] - 0s 10ms/step - loss: 0.2328 - accuracy: 0.8619 - val_loss: 0.3937 - val_accuracy: 0.7703\n",
      "Epoch 23/50\n",
      "36/36 [==============================] - 0s 10ms/step - loss: 0.2159 - accuracy: 0.8767 - val_loss: 0.3937 - val_accuracy: 0.7698\n",
      "Epoch 24/50\n",
      "36/36 [==============================] - 0s 10ms/step - loss: 0.2190 - accuracy: 0.8718 - val_loss: 0.3938 - val_accuracy: 0.7703\n",
      "Epoch 25/50\n",
      "36/36 [==============================] - 0s 10ms/step - loss: 0.2062 - accuracy: 0.8809 - val_loss: 0.3933 - val_accuracy: 0.7729\n",
      "Epoch 26/50\n",
      "36/36 [==============================] - 0s 9ms/step - loss: 0.2086 - accuracy: 0.8834 - val_loss: 0.3917 - val_accuracy: 0.7743\n",
      "Epoch 27/50\n",
      "36/36 [==============================] - 0s 9ms/step - loss: 0.2094 - accuracy: 0.8820 - val_loss: 0.3916 - val_accuracy: 0.7778\n",
      "Epoch 28/50\n",
      "36/36 [==============================] - 0s 10ms/step - loss: 0.1922 - accuracy: 0.8918 - val_loss: 0.3937 - val_accuracy: 0.7738\n",
      "Epoch 29/50\n",
      "36/36 [==============================] - 0s 10ms/step - loss: 0.1879 - accuracy: 0.8940 - val_loss: 0.3911 - val_accuracy: 0.7760\n",
      "Epoch 30/50\n",
      "36/36 [==============================] - 0s 9ms/step - loss: 0.1966 - accuracy: 0.8884 - val_loss: 0.3922 - val_accuracy: 0.7796\n",
      "Epoch 31/50\n",
      "36/36 [==============================] - 0s 10ms/step - loss: 0.1864 - accuracy: 0.8952 - val_loss: 0.3929 - val_accuracy: 0.7783\n",
      "Epoch 32/50\n",
      "36/36 [==============================] - 0s 10ms/step - loss: 0.1847 - accuracy: 0.8946 - val_loss: 0.3957 - val_accuracy: 0.7729\n",
      "Epoch 33/50\n",
      "36/36 [==============================] - 0s 10ms/step - loss: 0.1848 - accuracy: 0.8940 - val_loss: 0.3952 - val_accuracy: 0.7769\n",
      "Epoch 34/50\n",
      "36/36 [==============================] - 0s 9ms/step - loss: 0.1771 - accuracy: 0.8977 - val_loss: 0.3983 - val_accuracy: 0.7756\n",
      "Epoch 35/50\n",
      "36/36 [==============================] - 0s 10ms/step - loss: 0.1799 - accuracy: 0.8971 - val_loss: 0.3943 - val_accuracy: 0.7818\n",
      "Epoch 36/50\n",
      "36/36 [==============================] - 0s 9ms/step - loss: 0.1720 - accuracy: 0.9005 - val_loss: 0.3914 - val_accuracy: 0.7809\n",
      "Epoch 37/50\n",
      "36/36 [==============================] - 0s 9ms/step - loss: 0.1693 - accuracy: 0.9038 - val_loss: 0.3952 - val_accuracy: 0.7796\n",
      "Epoch 38/50\n",
      "36/36 [==============================] - 0s 9ms/step - loss: 0.1671 - accuracy: 0.9043 - val_loss: 0.4004 - val_accuracy: 0.7765\n",
      "Epoch 39/50\n",
      "36/36 [==============================] - 0s 9ms/step - loss: 0.1603 - accuracy: 0.9075 - val_loss: 0.3936 - val_accuracy: 0.7823\n",
      "Epoch 40/50\n",
      "36/36 [==============================] - 0s 9ms/step - loss: 0.1599 - accuracy: 0.9055 - val_loss: 0.3978 - val_accuracy: 0.7805\n",
      "Epoch 41/50\n",
      "36/36 [==============================] - 0s 9ms/step - loss: 0.1645 - accuracy: 0.9049 - val_loss: 0.3942 - val_accuracy: 0.7805\n",
      "Epoch 42/50\n",
      "36/36 [==============================] - 0s 9ms/step - loss: 0.1540 - accuracy: 0.9097 - val_loss: 0.3942 - val_accuracy: 0.7827\n",
      "Epoch 43/50\n",
      "36/36 [==============================] - 0s 9ms/step - loss: 0.1575 - accuracy: 0.9071 - val_loss: 0.3925 - val_accuracy: 0.7832\n",
      "Epoch 44/50\n",
      "36/36 [==============================] - 0s 9ms/step - loss: 0.1547 - accuracy: 0.9066 - val_loss: 0.3934 - val_accuracy: 0.7827\n",
      "Epoch 45/50\n",
      "36/36 [==============================] - 0s 9ms/step - loss: 0.1557 - accuracy: 0.9067 - val_loss: 0.3941 - val_accuracy: 0.7841\n",
      "Epoch 46/50\n",
      "36/36 [==============================] - 0s 9ms/step - loss: 0.1510 - accuracy: 0.9121 - val_loss: 0.3955 - val_accuracy: 0.7841\n",
      "Epoch 47/50\n",
      "36/36 [==============================] - 0s 9ms/step - loss: 0.1419 - accuracy: 0.9180 - val_loss: 0.3928 - val_accuracy: 0.7832\n",
      "Epoch 48/50\n",
      "36/36 [==============================] - 0s 9ms/step - loss: 0.1484 - accuracy: 0.9123 - val_loss: 0.3961 - val_accuracy: 0.7836\n",
      "Epoch 49/50\n",
      "36/36 [==============================] - 0s 9ms/step - loss: 0.1499 - accuracy: 0.9107 - val_loss: 0.3934 - val_accuracy: 0.7841\n",
      "Epoch 50/50\n",
      "36/36 [==============================] - 0s 9ms/step - loss: 0.1463 - accuracy: 0.9127 - val_loss: 0.3952 - val_accuracy: 0.7850\n"
     ]
    }
   ],
   "source": [
    "history = model.fit(x_train,\n",
    "                    y_train,\n",
    "                    epochs = 50,\n",
    "                    batch_size = 256,\n",
    "                    validation_data=(x_val, y_val))"
   ]
  },
  {
   "cell_type": "code",
   "execution_count": 34,
   "metadata": {},
   "outputs": [
    {
     "data": {
      "image/png": "[encoded data removed]",
      "text/plain": [
       "<Figure size 432x288 with 1 Axes>"
      ]
     },
     "metadata": {
      "needs_background": "light"
     },
     "output_type": "display_data"
    }
   ],
   "source": [
    "# loss 의 변화 시각화\n",
    "\n",
    "history_dict = history.history\n",
    "loss = history_dict['loss']\n",
    "val_loss = history_dict['val_loss']\n",
    "\n",
    "epochs = range(1,len(loss)+1)\n",
    "\n",
    "plt.plot(epochs, loss, 'bo', label='Training loss', color='limegreen')\n",
    "plt.plot(epochs, val_loss, 'b', label='Validation loss', color = 'violet')\n",
    "plt.title('Training and validation loss')\n",
    "plt.xlabel('Epochs')\n",
    "plt.ylabel('Loss')\n",
    "plt.legend()\n",
    "plt.show()"
   ]
  },
  {
   "cell_type": "markdown",
   "metadata": {},
   "source": [
    "**결과: 배치 사이즈를 늘린 결과, 바로 전 경우보다 예측 정확도가 조금 오른, 78%가 나왔다. 그러나 validation loss 는 급격히 줄어들다 아주 서서히 줄어드는 모양세를 보였다.**"
   ]
  },
  {
   "cell_type": "markdown",
   "metadata": {},
   "source": [
    "## Results"
   ]
  },
  {
   "cell_type": "markdown",
   "metadata": {},
   "source": [
    "**실험 중 가장 높은 정확도: 78%**\n",
    "- activation function: relu, softmax\n",
    "- optimizer: Adam\n",
    "- loss function: categorical_hinge\n",
    "- batch size: 256\n",
    "- epoch: 20"
   ]
  },
  {
   "cell_type": "markdown",
   "metadata": {},
   "source": [
    "## Insights"
   ]
  },
  {
   "cell_type": "markdown",
   "metadata": {},
   "source": [
    "로이터 뉴스 기사 데이터는 분류할 카테고리가 46개로 아주 많은 편에 속했다. 이러한 다중 분류의 경우에는 **softmax 활성화 함수**를 사용해야 한다. 또한, 원 핫 인코딩을 통해 인코딩을 했기 때문에 loss 함수를 **categorical_crossentropy 또는 cross_hinge 함수**를 사용해 분류해야한다."
   ]
  },
  {
   "cell_type": "code",
   "execution_count": null,
   "metadata": {},
   "outputs": [],
   "source": []
  }
 ],
 "metadata": {
  "kernelspec": {
   "display_name": "Python 3",
   "language": "python",
   "name": "python3"
  },
  "language_info": {
   "codemirror_mode": {
    "name": "ipython",
    "version": 3
   },
   "file_extension": ".py",
   "mimetype": "text/x-python",
   "name": "python",
   "nbconvert_exporter": "python",
   "pygments_lexer": "ipython3",
   "version": "3.8.5"
  }
 },
 "nbformat": 4,
 "nbformat_minor": 4
}
